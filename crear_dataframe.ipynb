{
 "cells": [
  {
   "cell_type": "code",
   "execution_count": 1,
   "metadata": {},
   "outputs": [],
   "source": [
    "import os\n",
    "from netCDF4 import Dataset\n",
    "import numpy as np\n",
    "import pandas as pd"
   ]
  },
  {
   "cell_type": "code",
   "execution_count": 2,
   "metadata": {},
   "outputs": [
    {
     "name": "stdout",
     "output_type": "stream",
     "text": [
      "/home/jorge/tsunami-warning/dataset/ts_jorge_MW8.6/\n"
     ]
    }
   ],
   "source": [
    "path = os.getcwd()\n",
    "folder = path+\"/dataset/ts_jorge_MW8.6/\"\n",
    "print(folder)"
   ]
  },
  {
   "cell_type": "code",
   "execution_count": 3,
   "metadata": {},
   "outputs": [
    {
     "name": "stdout",
     "output_type": "stream",
     "text": [
      "['bat_l0_ts002.nc', 'bat_l0_ts034.nc', 'bat_l0_ts035.nc', 'bat_l0_ts043.nc', 'bat_l0_ts050.nc', 'bat_l0_ts053.nc', 'bat_l0_ts055.nc', 'bat_l0_ts060.nc', 'bat_l0_ts061.nc', 'bat_l0_ts066.nc', 'bat_l0_ts067.nc', 'bat_l0_ts068.nc', 'bat_l0_ts071.nc', 'bat_l0_ts072.nc', 'bat_l0_ts073.nc', 'bat_l0_ts074.nc', 'bat_l0_ts076.nc', 'bat_l0_ts077.nc', 'bat_l0_ts080.nc', 'bat_l0_ts081.nc', 'bat_l0_ts082.nc', 'bat_l0_ts085.nc', 'bat_l0_ts086.nc', 'bat_l0_ts087.nc', 'bat_l0_ts089.nc', 'bat_l0_ts091.nc', 'bat_l0_ts094.nc', 'bat_l0_ts095.nc', 'bat_l0_ts096.nc', 'bat_l0_ts098.nc', 'bat_l0_ts099.nc', 'bat_l0_ts100.nc', 'bat_l0_ts101.nc', 'bat_l0_ts102.nc', 'bat_l0_ts105.nc', 'bat_l0_ts107.nc', 'bat_l0_ts110.nc', 'bat_l0_ts116.nc', 'bat_l0_ts120.nc', 'bat_l0_ts126.nc', 'bat_l0_ts127.nc', 'bat_l0_ts128.nc', 'bat_l0_ts131.nc', 'bat_l0_ts132.nc', 'bat_l0_ts133.nc', 'bat_l0_ts134.nc', 'bat_l0_ts137.nc', 'bat_l0_ts138.nc', 'bat_l0_ts143.nc', 'bat_l0_ts145.nc', 'bat_l0_ts147.nc', 'bat_l0_ts148.nc', 'bat_l0_ts149.nc', 'bat_l0_ts153.nc', 'bat_l0_ts158.nc', 'bat_l0_ts159.nc', 'bat_l0_ts161.nc', 'bat_l0_ts162.nc', 'bat_l0_ts163.nc', 'bat_l0_ts164.nc', 'bat_l0_ts167.nc', 'bat_l0_ts170.nc', 'bat_l0_ts172.nc', 'bat_l0_ts175.nc', 'bat_l0_ts176.nc', 'bat_l0_ts177.nc', 'bat_l0_ts178.nc', 'bat_l0_ts179.nc', 'bat_l0_ts180.nc', 'bat_l0_ts181.nc', 'bat_l0_ts184.nc', 'bat_l0_ts185.nc', 'bat_l0_ts187.nc', 'bat_l0_ts192.nc', 'bat_l0_ts193.nc', 'bat_l0_ts194.nc', 'bat_l0_ts195.nc', 'bat_l0_ts196.nc', 'bat_l0_ts_003.nc', 'bat_l0_ts_004.nc', 'bat_l0_ts_007.nc', 'bat_l0_ts_008.nc', 'bat_l0_ts_009.nc', 'bat_l0_ts_010.nc', 'bat_l0_ts_012.nc', 'bat_l0_ts_014.nc', 'bat_l0_ts_015.nc', 'bat_l0_ts_016.nc', 'bat_l0_ts_019.nc', 'bat_l0_ts_021.nc', 'bat_l0_ts_024.nc', 'bat_l0_ts_025.nc', 'bat_l0_ts_026.nc', 'bat_l0_ts_027.nc', 'bat_l0_ts_031.nc', 'bat_l0_ts_032.nc', 'bat_l0_ts_033.nc']\n"
     ]
    }
   ],
   "source": [
    "files = []\n",
    "for file in os.listdir(folder):\n",
    "    if file.endswith(\".nc\"):\n",
    "        files.append(file)\n",
    "files.sort()\n",
    "print(files)"
   ]
  },
  {
   "cell_type": "code",
   "execution_count": 4,
   "metadata": {},
   "outputs": [
    {
     "name": "stdout",
     "output_type": "stream",
     "text": [
      "deformed_bathy meters (83,)\n",
      "time seconds since 1970-01-01 (14410,)\n",
      "min_height meters (83,)\n",
      "max_height meters (83,)\n",
      "eta meters (14410, 83)\n",
      "ux meters/second (14410, 83)\n",
      "uy meters/second (14410, 83)\n"
     ]
    }
   ],
   "source": [
    "filep = files[0]\n",
    "f=Dataset(folder+filep,'r')\n",
    "for i in f.variables:\n",
    "    print(i,f.variables[i].units,f.variables[i].shape)"
   ]
  },
  {
   "cell_type": "code",
   "execution_count": 5,
   "metadata": {},
   "outputs": [],
   "source": [
    "#boyas = [14,79]\n",
    "#inu_valpo= [6,9]\n",
    "inu_vina = [80]\n",
    "registros = {'inu_vina':inu_vina}"
   ]
  },
  {
   "cell_type": "code",
   "execution_count": 6,
   "metadata": {},
   "outputs": [],
   "source": [
    "data = {}\n",
    "for file in files:\n",
    "    for n,r in registros.items():\n",
    "        for i in r:\n",
    "            rutafile = folder  + file\n",
    "            f=Dataset(rutafile,'r') # abrir file\n",
    "            time = f.variables['time'][:]\n",
    "            eta = f.variables['eta'][:,i] -f.variables['eta'][:,i][0]# eta corregido\n",
    "            eta = eta.data.tolist()\n",
    "            data[n+str(i)+'_'+file[-8:-3]] = eta"
   ]
  },
  {
   "cell_type": "code",
   "execution_count": 7,
   "metadata": {},
   "outputs": [],
   "source": [
    "df = pd.DataFrame(data)\n",
    "#df.to_json (folder+'DataFrame_boyas79_80viña.json')\n",
    "#df.head()"
   ]
  },
  {
   "cell_type": "code",
   "execution_count": 8,
   "metadata": {},
   "outputs": [
    {
     "data": {
      "text/html": [
       "<div>\n",
       "<style scoped>\n",
       "    .dataframe tbody tr th:only-of-type {\n",
       "        vertical-align: middle;\n",
       "    }\n",
       "\n",
       "    .dataframe tbody tr th {\n",
       "        vertical-align: top;\n",
       "    }\n",
       "\n",
       "    .dataframe thead th {\n",
       "        text-align: right;\n",
       "    }\n",
       "</style>\n",
       "<table border=\"1\" class=\"dataframe\">\n",
       "  <thead>\n",
       "    <tr style=\"text-align: right;\">\n",
       "      <th></th>\n",
       "      <th>inu_vina80_ts002</th>\n",
       "      <th>inu_vina80_ts034</th>\n",
       "      <th>inu_vina80_ts035</th>\n",
       "      <th>inu_vina80_ts043</th>\n",
       "      <th>inu_vina80_ts050</th>\n",
       "      <th>inu_vina80_ts053</th>\n",
       "      <th>inu_vina80_ts055</th>\n",
       "      <th>inu_vina80_ts060</th>\n",
       "      <th>inu_vina80_ts061</th>\n",
       "      <th>inu_vina80_ts066</th>\n",
       "      <th>...</th>\n",
       "      <th>inu_vina80_s_016</th>\n",
       "      <th>inu_vina80_s_019</th>\n",
       "      <th>inu_vina80_s_021</th>\n",
       "      <th>inu_vina80_s_024</th>\n",
       "      <th>inu_vina80_s_025</th>\n",
       "      <th>inu_vina80_s_026</th>\n",
       "      <th>inu_vina80_s_027</th>\n",
       "      <th>inu_vina80_s_031</th>\n",
       "      <th>inu_vina80_s_032</th>\n",
       "      <th>inu_vina80_s_033</th>\n",
       "    </tr>\n",
       "  </thead>\n",
       "  <tbody>\n",
       "    <tr>\n",
       "      <th>count</th>\n",
       "      <td>14410.0</td>\n",
       "      <td>14410.0</td>\n",
       "      <td>14410.000000</td>\n",
       "      <td>14410.0</td>\n",
       "      <td>14410.0</td>\n",
       "      <td>14410.0</td>\n",
       "      <td>14410.0</td>\n",
       "      <td>14410.000000</td>\n",
       "      <td>14410.000000</td>\n",
       "      <td>14410.000000</td>\n",
       "      <td>...</td>\n",
       "      <td>14410.0</td>\n",
       "      <td>14410.000000</td>\n",
       "      <td>14410.0</td>\n",
       "      <td>14410.0</td>\n",
       "      <td>14410.0</td>\n",
       "      <td>14410.0</td>\n",
       "      <td>14410.0</td>\n",
       "      <td>14410.0</td>\n",
       "      <td>14410.0</td>\n",
       "      <td>14410.0</td>\n",
       "    </tr>\n",
       "    <tr>\n",
       "      <th>mean</th>\n",
       "      <td>0.0</td>\n",
       "      <td>0.0</td>\n",
       "      <td>0.034584</td>\n",
       "      <td>0.0</td>\n",
       "      <td>0.0</td>\n",
       "      <td>0.0</td>\n",
       "      <td>0.0</td>\n",
       "      <td>0.026948</td>\n",
       "      <td>0.038313</td>\n",
       "      <td>0.008181</td>\n",
       "      <td>...</td>\n",
       "      <td>0.0</td>\n",
       "      <td>0.006252</td>\n",
       "      <td>0.0</td>\n",
       "      <td>0.0</td>\n",
       "      <td>0.0</td>\n",
       "      <td>0.0</td>\n",
       "      <td>0.0</td>\n",
       "      <td>0.0</td>\n",
       "      <td>0.0</td>\n",
       "      <td>0.0</td>\n",
       "    </tr>\n",
       "    <tr>\n",
       "      <th>std</th>\n",
       "      <td>0.0</td>\n",
       "      <td>0.0</td>\n",
       "      <td>0.163501</td>\n",
       "      <td>0.0</td>\n",
       "      <td>0.0</td>\n",
       "      <td>0.0</td>\n",
       "      <td>0.0</td>\n",
       "      <td>0.126801</td>\n",
       "      <td>0.179470</td>\n",
       "      <td>0.024548</td>\n",
       "      <td>...</td>\n",
       "      <td>0.0</td>\n",
       "      <td>0.010847</td>\n",
       "      <td>0.0</td>\n",
       "      <td>0.0</td>\n",
       "      <td>0.0</td>\n",
       "      <td>0.0</td>\n",
       "      <td>0.0</td>\n",
       "      <td>0.0</td>\n",
       "      <td>0.0</td>\n",
       "      <td>0.0</td>\n",
       "    </tr>\n",
       "    <tr>\n",
       "      <th>min</th>\n",
       "      <td>0.0</td>\n",
       "      <td>0.0</td>\n",
       "      <td>0.000000</td>\n",
       "      <td>0.0</td>\n",
       "      <td>0.0</td>\n",
       "      <td>0.0</td>\n",
       "      <td>0.0</td>\n",
       "      <td>0.000000</td>\n",
       "      <td>0.000000</td>\n",
       "      <td>0.000000</td>\n",
       "      <td>...</td>\n",
       "      <td>0.0</td>\n",
       "      <td>0.000000</td>\n",
       "      <td>0.0</td>\n",
       "      <td>0.0</td>\n",
       "      <td>0.0</td>\n",
       "      <td>0.0</td>\n",
       "      <td>0.0</td>\n",
       "      <td>0.0</td>\n",
       "      <td>0.0</td>\n",
       "      <td>0.0</td>\n",
       "    </tr>\n",
       "    <tr>\n",
       "      <th>25%</th>\n",
       "      <td>0.0</td>\n",
       "      <td>0.0</td>\n",
       "      <td>0.005005</td>\n",
       "      <td>0.0</td>\n",
       "      <td>0.0</td>\n",
       "      <td>0.0</td>\n",
       "      <td>0.0</td>\n",
       "      <td>0.004986</td>\n",
       "      <td>0.004832</td>\n",
       "      <td>0.003159</td>\n",
       "      <td>...</td>\n",
       "      <td>0.0</td>\n",
       "      <td>0.003023</td>\n",
       "      <td>0.0</td>\n",
       "      <td>0.0</td>\n",
       "      <td>0.0</td>\n",
       "      <td>0.0</td>\n",
       "      <td>0.0</td>\n",
       "      <td>0.0</td>\n",
       "      <td>0.0</td>\n",
       "      <td>0.0</td>\n",
       "    </tr>\n",
       "    <tr>\n",
       "      <th>50%</th>\n",
       "      <td>0.0</td>\n",
       "      <td>0.0</td>\n",
       "      <td>0.005539</td>\n",
       "      <td>0.0</td>\n",
       "      <td>0.0</td>\n",
       "      <td>0.0</td>\n",
       "      <td>0.0</td>\n",
       "      <td>0.005534</td>\n",
       "      <td>0.005580</td>\n",
       "      <td>0.003943</td>\n",
       "      <td>...</td>\n",
       "      <td>0.0</td>\n",
       "      <td>0.003792</td>\n",
       "      <td>0.0</td>\n",
       "      <td>0.0</td>\n",
       "      <td>0.0</td>\n",
       "      <td>0.0</td>\n",
       "      <td>0.0</td>\n",
       "      <td>0.0</td>\n",
       "      <td>0.0</td>\n",
       "      <td>0.0</td>\n",
       "    </tr>\n",
       "    <tr>\n",
       "      <th>75%</th>\n",
       "      <td>0.0</td>\n",
       "      <td>0.0</td>\n",
       "      <td>0.010796</td>\n",
       "      <td>0.0</td>\n",
       "      <td>0.0</td>\n",
       "      <td>0.0</td>\n",
       "      <td>0.0</td>\n",
       "      <td>0.010758</td>\n",
       "      <td>0.012735</td>\n",
       "      <td>0.005151</td>\n",
       "      <td>...</td>\n",
       "      <td>0.0</td>\n",
       "      <td>0.005018</td>\n",
       "      <td>0.0</td>\n",
       "      <td>0.0</td>\n",
       "      <td>0.0</td>\n",
       "      <td>0.0</td>\n",
       "      <td>0.0</td>\n",
       "      <td>0.0</td>\n",
       "      <td>0.0</td>\n",
       "      <td>0.0</td>\n",
       "    </tr>\n",
       "    <tr>\n",
       "      <th>max</th>\n",
       "      <td>0.0</td>\n",
       "      <td>0.0</td>\n",
       "      <td>1.905331</td>\n",
       "      <td>0.0</td>\n",
       "      <td>0.0</td>\n",
       "      <td>0.0</td>\n",
       "      <td>0.0</td>\n",
       "      <td>1.911239</td>\n",
       "      <td>2.722036</td>\n",
       "      <td>0.397255</td>\n",
       "      <td>...</td>\n",
       "      <td>0.0</td>\n",
       "      <td>0.133507</td>\n",
       "      <td>0.0</td>\n",
       "      <td>0.0</td>\n",
       "      <td>0.0</td>\n",
       "      <td>0.0</td>\n",
       "      <td>0.0</td>\n",
       "      <td>0.0</td>\n",
       "      <td>0.0</td>\n",
       "      <td>0.0</td>\n",
       "    </tr>\n",
       "  </tbody>\n",
       "</table>\n",
       "<p>8 rows × 97 columns</p>\n",
       "</div>"
      ],
      "text/plain": [
       "       inu_vina80_ts002  inu_vina80_ts034  inu_vina80_ts035  inu_vina80_ts043  \\\n",
       "count           14410.0           14410.0      14410.000000           14410.0   \n",
       "mean                0.0               0.0          0.034584               0.0   \n",
       "std                 0.0               0.0          0.163501               0.0   \n",
       "min                 0.0               0.0          0.000000               0.0   \n",
       "25%                 0.0               0.0          0.005005               0.0   \n",
       "50%                 0.0               0.0          0.005539               0.0   \n",
       "75%                 0.0               0.0          0.010796               0.0   \n",
       "max                 0.0               0.0          1.905331               0.0   \n",
       "\n",
       "       inu_vina80_ts050  inu_vina80_ts053  inu_vina80_ts055  inu_vina80_ts060  \\\n",
       "count           14410.0           14410.0           14410.0      14410.000000   \n",
       "mean                0.0               0.0               0.0          0.026948   \n",
       "std                 0.0               0.0               0.0          0.126801   \n",
       "min                 0.0               0.0               0.0          0.000000   \n",
       "25%                 0.0               0.0               0.0          0.004986   \n",
       "50%                 0.0               0.0               0.0          0.005534   \n",
       "75%                 0.0               0.0               0.0          0.010758   \n",
       "max                 0.0               0.0               0.0          1.911239   \n",
       "\n",
       "       inu_vina80_ts061  inu_vina80_ts066  ...  inu_vina80_s_016  \\\n",
       "count      14410.000000      14410.000000  ...           14410.0   \n",
       "mean           0.038313          0.008181  ...               0.0   \n",
       "std            0.179470          0.024548  ...               0.0   \n",
       "min            0.000000          0.000000  ...               0.0   \n",
       "25%            0.004832          0.003159  ...               0.0   \n",
       "50%            0.005580          0.003943  ...               0.0   \n",
       "75%            0.012735          0.005151  ...               0.0   \n",
       "max            2.722036          0.397255  ...               0.0   \n",
       "\n",
       "       inu_vina80_s_019  inu_vina80_s_021  inu_vina80_s_024  inu_vina80_s_025  \\\n",
       "count      14410.000000           14410.0           14410.0           14410.0   \n",
       "mean           0.006252               0.0               0.0               0.0   \n",
       "std            0.010847               0.0               0.0               0.0   \n",
       "min            0.000000               0.0               0.0               0.0   \n",
       "25%            0.003023               0.0               0.0               0.0   \n",
       "50%            0.003792               0.0               0.0               0.0   \n",
       "75%            0.005018               0.0               0.0               0.0   \n",
       "max            0.133507               0.0               0.0               0.0   \n",
       "\n",
       "       inu_vina80_s_026  inu_vina80_s_027  inu_vina80_s_031  inu_vina80_s_032  \\\n",
       "count           14410.0           14410.0           14410.0           14410.0   \n",
       "mean                0.0               0.0               0.0               0.0   \n",
       "std                 0.0               0.0               0.0               0.0   \n",
       "min                 0.0               0.0               0.0               0.0   \n",
       "25%                 0.0               0.0               0.0               0.0   \n",
       "50%                 0.0               0.0               0.0               0.0   \n",
       "75%                 0.0               0.0               0.0               0.0   \n",
       "max                 0.0               0.0               0.0               0.0   \n",
       "\n",
       "       inu_vina80_s_033  \n",
       "count           14410.0  \n",
       "mean                0.0  \n",
       "std                 0.0  \n",
       "min                 0.0  \n",
       "25%                 0.0  \n",
       "50%                 0.0  \n",
       "75%                 0.0  \n",
       "max                 0.0  \n",
       "\n",
       "[8 rows x 97 columns]"
      ]
     },
     "execution_count": 8,
     "metadata": {},
     "output_type": "execute_result"
    }
   ],
   "source": [
    "df.describe()"
   ]
  },
  {
   "cell_type": "code",
   "execution_count": 9,
   "metadata": {},
   "outputs": [],
   "source": [
    "#df = pd.read_json(folder+'DataFrame_boyas.json') # cargar dataframe"
   ]
  },
  {
   "cell_type": "code",
   "execution_count": 10,
   "metadata": {},
   "outputs": [
    {
     "data": {
      "text/plain": [
       "97"
      ]
     },
     "execution_count": 10,
     "metadata": {},
     "output_type": "execute_result"
    }
   ],
   "source": [
    "indexC = df.columns\n",
    "len(indexC)"
   ]
  },
  {
   "cell_type": "code",
   "execution_count": 11,
   "metadata": {},
   "outputs": [],
   "source": [
    "Inu = []\n",
    "inu = {}\n",
    "NoInu = []\n",
    "c = -1\n",
    "groups = []\n",
    "for i in indexC:\n",
    "    c+=1\n",
    "    if df[i].max()>0:\n",
    "        groups.append(1)\n",
    "        Inu.append(c)\n",
    "        inu[i] = [df[i].max()]\n",
    "    else:\n",
    "        NoInu.append(c)\n",
    "        groups.append(0)"
   ]
  },
  {
   "cell_type": "code",
   "execution_count": 12,
   "metadata": {},
   "outputs": [
    {
     "data": {
      "text/html": [
       "<div>\n",
       "<style scoped>\n",
       "    .dataframe tbody tr th:only-of-type {\n",
       "        vertical-align: middle;\n",
       "    }\n",
       "\n",
       "    .dataframe tbody tr th {\n",
       "        vertical-align: top;\n",
       "    }\n",
       "\n",
       "    .dataframe thead th {\n",
       "        text-align: right;\n",
       "    }\n",
       "</style>\n",
       "<table border=\"1\" class=\"dataframe\">\n",
       "  <thead>\n",
       "    <tr style=\"text-align: right;\">\n",
       "      <th></th>\n",
       "      <th>inu_vina80_ts035</th>\n",
       "      <th>inu_vina80_ts060</th>\n",
       "      <th>inu_vina80_ts061</th>\n",
       "      <th>inu_vina80_ts066</th>\n",
       "      <th>inu_vina80_ts081</th>\n",
       "      <th>inu_vina80_ts085</th>\n",
       "      <th>inu_vina80_ts133</th>\n",
       "      <th>inu_vina80_ts138</th>\n",
       "      <th>inu_vina80_ts143</th>\n",
       "      <th>inu_vina80_ts145</th>\n",
       "      <th>inu_vina80_ts180</th>\n",
       "      <th>inu_vina80_ts185</th>\n",
       "      <th>inu_vina80_ts194</th>\n",
       "      <th>inu_vina80_s_003</th>\n",
       "      <th>inu_vina80_s_004</th>\n",
       "      <th>inu_vina80_s_015</th>\n",
       "      <th>inu_vina80_s_019</th>\n",
       "    </tr>\n",
       "  </thead>\n",
       "  <tbody>\n",
       "    <tr>\n",
       "      <th>0</th>\n",
       "      <td>1.905331</td>\n",
       "      <td>1.911239</td>\n",
       "      <td>2.722036</td>\n",
       "      <td>0.397255</td>\n",
       "      <td>0.129749</td>\n",
       "      <td>3.172851</td>\n",
       "      <td>1.323668</td>\n",
       "      <td>1.595227</td>\n",
       "      <td>0.647731</td>\n",
       "      <td>0.443642</td>\n",
       "      <td>0.582891</td>\n",
       "      <td>2.384743</td>\n",
       "      <td>0.120701</td>\n",
       "      <td>0.543291</td>\n",
       "      <td>2.52685</td>\n",
       "      <td>0.006153</td>\n",
       "      <td>0.133507</td>\n",
       "    </tr>\n",
       "  </tbody>\n",
       "</table>\n",
       "</div>"
      ],
      "text/plain": [
       "   inu_vina80_ts035  inu_vina80_ts060  inu_vina80_ts061  inu_vina80_ts066  \\\n",
       "0          1.905331          1.911239          2.722036          0.397255   \n",
       "\n",
       "   inu_vina80_ts081  inu_vina80_ts085  inu_vina80_ts133  inu_vina80_ts138  \\\n",
       "0          0.129749          3.172851          1.323668          1.595227   \n",
       "\n",
       "   inu_vina80_ts143  inu_vina80_ts145  inu_vina80_ts180  inu_vina80_ts185  \\\n",
       "0          0.647731          0.443642          0.582891          2.384743   \n",
       "\n",
       "   inu_vina80_ts194  inu_vina80_s_003  inu_vina80_s_004  inu_vina80_s_015  \\\n",
       "0          0.120701          0.543291           2.52685          0.006153   \n",
       "\n",
       "   inu_vina80_s_019  \n",
       "0          0.133507  "
      ]
     },
     "execution_count": 12,
     "metadata": {},
     "output_type": "execute_result"
    }
   ],
   "source": [
    "inu = pd.DataFrame(inu)\n",
    "inu"
   ]
  },
  {
   "cell_type": "code",
   "execution_count": 13,
   "metadata": {},
   "outputs": [
    {
     "name": "stdout",
     "output_type": "stream",
     "text": [
      "No Inunda % 82.4742268041237\n",
      "Si Inunda % 17.525773195876287\n"
     ]
    }
   ],
   "source": [
    "print('No Inunda %',(len(NoInu)/len(indexC))*100)\n",
    "print('Si Inunda %',(len(Inu)/len(indexC))*100)"
   ]
  },
  {
   "cell_type": "code",
   "execution_count": 14,
   "metadata": {},
   "outputs": [
    {
     "data": {
      "text/plain": [
       "[2, 7, 8, 9, 19, 21, 44, 47, 48, 49, 68, 71, 75, 78, 79, 86, 88]"
      ]
     },
     "execution_count": 14,
     "metadata": {},
     "output_type": "execute_result"
    }
   ],
   "source": [
    "Inu"
   ]
  },
  {
   "cell_type": "code",
   "execution_count": 16,
   "metadata": {},
   "outputs": [
    {
     "data": {
      "text/plain": [
       "97"
      ]
     },
     "execution_count": 16,
     "metadata": {},
     "output_type": "execute_result"
    }
   ],
   "source": [
    "len(groups)"
   ]
  },
  {
   "cell_type": "code",
   "execution_count": null,
   "metadata": {},
   "outputs": [],
   "source": []
  }
 ],
 "metadata": {
  "kernelspec": {
   "display_name": "Python 3",
   "language": "python",
   "name": "python3"
  },
  "language_info": {
   "codemirror_mode": {
    "name": "ipython",
    "version": 3
   },
   "file_extension": ".py",
   "mimetype": "text/x-python",
   "name": "python",
   "nbconvert_exporter": "python",
   "pygments_lexer": "ipython3",
   "version": "3.7.0"
  }
 },
 "nbformat": 4,
 "nbformat_minor": 4
}
