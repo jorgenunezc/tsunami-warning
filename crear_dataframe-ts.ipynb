{
 "cells": [
  {
   "cell_type": "code",
   "execution_count": 1,
   "metadata": {},
   "outputs": [],
   "source": [
    "import os\n",
    "from netCDF4 import Dataset\n",
    "import numpy as np\n",
    "import pandas as pd"
   ]
  },
  {
   "cell_type": "code",
   "execution_count": 2,
   "metadata": {},
   "outputs": [
    {
     "name": "stdout",
     "output_type": "stream",
     "text": [
      "/home/jorge/tsunami-warning/dataset/ts_jorge_sce400/\n"
     ]
    }
   ],
   "source": [
    "path = os.getcwd()\n",
    "folder = path+\"/dataset/ts_jorge_sce400/\"\n",
    "print(folder)"
   ]
  },
  {
   "cell_type": "code",
   "execution_count": 3,
   "metadata": {},
   "outputs": [],
   "source": [
    "files = []\n",
    "for file in os.listdir(folder):\n",
    "    if file.endswith(\".nc\"):\n",
    "        files.append(file)\n",
    "files.sort()"
   ]
  },
  {
   "cell_type": "code",
   "execution_count": 4,
   "metadata": {},
   "outputs": [
    {
     "data": {
      "text/plain": [
       "349"
      ]
     },
     "execution_count": 4,
     "metadata": {},
     "output_type": "execute_result"
    }
   ],
   "source": [
    "len(files)"
   ]
  },
  {
   "cell_type": "code",
   "execution_count": 5,
   "metadata": {},
   "outputs": [
    {
     "name": "stdout",
     "output_type": "stream",
     "text": [
      "deformed_bathy meters (131,)\n",
      "time seconds since 1970-01-01 (5761,)\n",
      "longitude degrees (131,)\n",
      "latitude degrees (131,)\n",
      "min_height meters (131,)\n",
      "max_height meters (131,)\n",
      "eta meters (5761, 131)\n",
      "ux meters/second (5761, 131)\n",
      "uy meters/second (5761, 131)\n"
     ]
    }
   ],
   "source": [
    "filep = files[0]\n",
    "f=Dataset(folder+filep,'r')\n",
    "for i in f.variables:\n",
    "    print(i,f.variables[i].units,f.variables[i].shape)"
   ]
  },
  {
   "cell_type": "code",
   "execution_count": 6,
   "metadata": {},
   "outputs": [],
   "source": [
    "boyas = [120]\n",
    "#inu_valpo= [6,9]\n",
    "#inu_vina = [80]\n",
    "#registros = {'inu_vina':inu_vina,'boyas':boyas}\n",
    "registros = {'boyas':boyas}"
   ]
  },
  {
   "cell_type": "code",
   "execution_count": 7,
   "metadata": {},
   "outputs": [],
   "source": [
    "data = {}\n",
    "for file in files:\n",
    "    for n,r in registros.items():\n",
    "        for i in r:\n",
    "            rutafile = folder  + file\n",
    "            f=Dataset(rutafile,'r') # abrir file\n",
    "            time = f.variables['time'][:]\n",
    "            eta = f.variables['eta'][:,i] -f.variables['eta'][:,i][0]# eta corregido\n",
    "            eta = eta.data.tolist()\n",
    "            data[n+str(i)+'_'+file[-9:-3] ]= eta"
   ]
  },
  {
   "cell_type": "code",
   "execution_count": 8,
   "metadata": {},
   "outputs": [
    {
     "data": {
      "text/html": [
       "<div>\n",
       "<style scoped>\n",
       "    .dataframe tbody tr th:only-of-type {\n",
       "        vertical-align: middle;\n",
       "    }\n",
       "\n",
       "    .dataframe tbody tr th {\n",
       "        vertical-align: top;\n",
       "    }\n",
       "\n",
       "    .dataframe thead th {\n",
       "        text-align: right;\n",
       "    }\n",
       "</style>\n",
       "<table border=\"1\" class=\"dataframe\">\n",
       "  <thead>\n",
       "    <tr style=\"text-align: right;\">\n",
       "      <th></th>\n",
       "      <th>boyas120_000000</th>\n",
       "      <th>boyas120_000001</th>\n",
       "      <th>boyas120_000002</th>\n",
       "      <th>boyas120_000003</th>\n",
       "      <th>boyas120_000004</th>\n",
       "      <th>boyas120_000005</th>\n",
       "      <th>boyas120_000006</th>\n",
       "      <th>boyas120_000007</th>\n",
       "      <th>boyas120_000008</th>\n",
       "      <th>boyas120_000009</th>\n",
       "      <th>...</th>\n",
       "      <th>boyas120_000340</th>\n",
       "      <th>boyas120_000341</th>\n",
       "      <th>boyas120_000342</th>\n",
       "      <th>boyas120_000343</th>\n",
       "      <th>boyas120_000344</th>\n",
       "      <th>boyas120_000345</th>\n",
       "      <th>boyas120_000346</th>\n",
       "      <th>boyas120_000347</th>\n",
       "      <th>boyas120_000348</th>\n",
       "      <th>boyas120_000349</th>\n",
       "    </tr>\n",
       "  </thead>\n",
       "  <tbody>\n",
       "    <tr>\n",
       "      <th>0</th>\n",
       "      <td>0.0</td>\n",
       "      <td>0.0</td>\n",
       "      <td>0.0</td>\n",
       "      <td>0.0</td>\n",
       "      <td>0.0</td>\n",
       "      <td>0.0</td>\n",
       "      <td>0.0</td>\n",
       "      <td>0.0</td>\n",
       "      <td>0.0</td>\n",
       "      <td>0.0</td>\n",
       "      <td>...</td>\n",
       "      <td>0.0</td>\n",
       "      <td>0.0</td>\n",
       "      <td>0.0</td>\n",
       "      <td>0.0</td>\n",
       "      <td>0.0</td>\n",
       "      <td>0.0</td>\n",
       "      <td>0.0</td>\n",
       "      <td>0.0</td>\n",
       "      <td>0.0</td>\n",
       "      <td>0.0</td>\n",
       "    </tr>\n",
       "    <tr>\n",
       "      <th>1</th>\n",
       "      <td>0.0</td>\n",
       "      <td>0.0</td>\n",
       "      <td>0.0</td>\n",
       "      <td>0.0</td>\n",
       "      <td>0.0</td>\n",
       "      <td>0.0</td>\n",
       "      <td>0.0</td>\n",
       "      <td>0.0</td>\n",
       "      <td>0.0</td>\n",
       "      <td>0.0</td>\n",
       "      <td>...</td>\n",
       "      <td>0.0</td>\n",
       "      <td>0.0</td>\n",
       "      <td>0.0</td>\n",
       "      <td>0.0</td>\n",
       "      <td>0.0</td>\n",
       "      <td>0.0</td>\n",
       "      <td>0.0</td>\n",
       "      <td>0.0</td>\n",
       "      <td>0.0</td>\n",
       "      <td>0.0</td>\n",
       "    </tr>\n",
       "    <tr>\n",
       "      <th>2</th>\n",
       "      <td>0.0</td>\n",
       "      <td>0.0</td>\n",
       "      <td>0.0</td>\n",
       "      <td>0.0</td>\n",
       "      <td>0.0</td>\n",
       "      <td>0.0</td>\n",
       "      <td>0.0</td>\n",
       "      <td>0.0</td>\n",
       "      <td>0.0</td>\n",
       "      <td>0.0</td>\n",
       "      <td>...</td>\n",
       "      <td>0.0</td>\n",
       "      <td>0.0</td>\n",
       "      <td>0.0</td>\n",
       "      <td>0.0</td>\n",
       "      <td>0.0</td>\n",
       "      <td>0.0</td>\n",
       "      <td>0.0</td>\n",
       "      <td>0.0</td>\n",
       "      <td>0.0</td>\n",
       "      <td>0.0</td>\n",
       "    </tr>\n",
       "    <tr>\n",
       "      <th>3</th>\n",
       "      <td>0.0</td>\n",
       "      <td>0.0</td>\n",
       "      <td>0.0</td>\n",
       "      <td>0.0</td>\n",
       "      <td>0.0</td>\n",
       "      <td>0.0</td>\n",
       "      <td>0.0</td>\n",
       "      <td>0.0</td>\n",
       "      <td>0.0</td>\n",
       "      <td>0.0</td>\n",
       "      <td>...</td>\n",
       "      <td>0.0</td>\n",
       "      <td>0.0</td>\n",
       "      <td>0.0</td>\n",
       "      <td>0.0</td>\n",
       "      <td>0.0</td>\n",
       "      <td>0.0</td>\n",
       "      <td>0.0</td>\n",
       "      <td>0.0</td>\n",
       "      <td>0.0</td>\n",
       "      <td>0.0</td>\n",
       "    </tr>\n",
       "    <tr>\n",
       "      <th>4</th>\n",
       "      <td>0.0</td>\n",
       "      <td>0.0</td>\n",
       "      <td>0.0</td>\n",
       "      <td>0.0</td>\n",
       "      <td>0.0</td>\n",
       "      <td>0.0</td>\n",
       "      <td>0.0</td>\n",
       "      <td>0.0</td>\n",
       "      <td>0.0</td>\n",
       "      <td>0.0</td>\n",
       "      <td>...</td>\n",
       "      <td>0.0</td>\n",
       "      <td>0.0</td>\n",
       "      <td>0.0</td>\n",
       "      <td>0.0</td>\n",
       "      <td>0.0</td>\n",
       "      <td>0.0</td>\n",
       "      <td>0.0</td>\n",
       "      <td>0.0</td>\n",
       "      <td>0.0</td>\n",
       "      <td>0.0</td>\n",
       "    </tr>\n",
       "  </tbody>\n",
       "</table>\n",
       "<p>5 rows × 349 columns</p>\n",
       "</div>"
      ],
      "text/plain": [
       "   boyas120_000000  boyas120_000001  boyas120_000002  boyas120_000003  \\\n",
       "0              0.0              0.0              0.0              0.0   \n",
       "1              0.0              0.0              0.0              0.0   \n",
       "2              0.0              0.0              0.0              0.0   \n",
       "3              0.0              0.0              0.0              0.0   \n",
       "4              0.0              0.0              0.0              0.0   \n",
       "\n",
       "   boyas120_000004  boyas120_000005  boyas120_000006  boyas120_000007  \\\n",
       "0              0.0              0.0              0.0              0.0   \n",
       "1              0.0              0.0              0.0              0.0   \n",
       "2              0.0              0.0              0.0              0.0   \n",
       "3              0.0              0.0              0.0              0.0   \n",
       "4              0.0              0.0              0.0              0.0   \n",
       "\n",
       "   boyas120_000008  boyas120_000009  ...  boyas120_000340  boyas120_000341  \\\n",
       "0              0.0              0.0  ...              0.0              0.0   \n",
       "1              0.0              0.0  ...              0.0              0.0   \n",
       "2              0.0              0.0  ...              0.0              0.0   \n",
       "3              0.0              0.0  ...              0.0              0.0   \n",
       "4              0.0              0.0  ...              0.0              0.0   \n",
       "\n",
       "   boyas120_000342  boyas120_000343  boyas120_000344  boyas120_000345  \\\n",
       "0              0.0              0.0              0.0              0.0   \n",
       "1              0.0              0.0              0.0              0.0   \n",
       "2              0.0              0.0              0.0              0.0   \n",
       "3              0.0              0.0              0.0              0.0   \n",
       "4              0.0              0.0              0.0              0.0   \n",
       "\n",
       "   boyas120_000346  boyas120_000347  boyas120_000348  boyas120_000349  \n",
       "0              0.0              0.0              0.0              0.0  \n",
       "1              0.0              0.0              0.0              0.0  \n",
       "2              0.0              0.0              0.0              0.0  \n",
       "3              0.0              0.0              0.0              0.0  \n",
       "4              0.0              0.0              0.0              0.0  \n",
       "\n",
       "[5 rows x 349 columns]"
      ]
     },
     "execution_count": 8,
     "metadata": {},
     "output_type": "execute_result"
    }
   ],
   "source": [
    "df = pd.DataFrame(data)\n",
    "df.to_json (folder+'DataFrame_boya-120.json')\n",
    "df.head()"
   ]
  },
  {
   "cell_type": "code",
   "execution_count": 9,
   "metadata": {},
   "outputs": [
    {
     "data": {
      "text/html": [
       "<div>\n",
       "<style scoped>\n",
       "    .dataframe tbody tr th:only-of-type {\n",
       "        vertical-align: middle;\n",
       "    }\n",
       "\n",
       "    .dataframe tbody tr th {\n",
       "        vertical-align: top;\n",
       "    }\n",
       "\n",
       "    .dataframe thead th {\n",
       "        text-align: right;\n",
       "    }\n",
       "</style>\n",
       "<table border=\"1\" class=\"dataframe\">\n",
       "  <thead>\n",
       "    <tr style=\"text-align: right;\">\n",
       "      <th></th>\n",
       "      <th>boyas120_000000</th>\n",
       "      <th>boyas120_000001</th>\n",
       "      <th>boyas120_000002</th>\n",
       "      <th>boyas120_000003</th>\n",
       "      <th>boyas120_000004</th>\n",
       "      <th>boyas120_000005</th>\n",
       "      <th>boyas120_000006</th>\n",
       "      <th>boyas120_000007</th>\n",
       "      <th>boyas120_000008</th>\n",
       "      <th>boyas120_000009</th>\n",
       "      <th>...</th>\n",
       "      <th>boyas120_000340</th>\n",
       "      <th>boyas120_000341</th>\n",
       "      <th>boyas120_000342</th>\n",
       "      <th>boyas120_000343</th>\n",
       "      <th>boyas120_000344</th>\n",
       "      <th>boyas120_000345</th>\n",
       "      <th>boyas120_000346</th>\n",
       "      <th>boyas120_000347</th>\n",
       "      <th>boyas120_000348</th>\n",
       "      <th>boyas120_000349</th>\n",
       "    </tr>\n",
       "  </thead>\n",
       "  <tbody>\n",
       "    <tr>\n",
       "      <th>count</th>\n",
       "      <td>5761.0</td>\n",
       "      <td>5761.0</td>\n",
       "      <td>5761.0</td>\n",
       "      <td>5761.000000</td>\n",
       "      <td>5761.000000</td>\n",
       "      <td>5761.0</td>\n",
       "      <td>5761.0</td>\n",
       "      <td>5761.0</td>\n",
       "      <td>5761.0</td>\n",
       "      <td>5761.0</td>\n",
       "      <td>...</td>\n",
       "      <td>5761.000000</td>\n",
       "      <td>5761.0</td>\n",
       "      <td>5761.000000</td>\n",
       "      <td>5761.000000</td>\n",
       "      <td>5761.000000</td>\n",
       "      <td>5761.0</td>\n",
       "      <td>5761.0</td>\n",
       "      <td>5761.0</td>\n",
       "      <td>5761.0</td>\n",
       "      <td>5761.000000</td>\n",
       "    </tr>\n",
       "    <tr>\n",
       "      <th>mean</th>\n",
       "      <td>0.0</td>\n",
       "      <td>0.0</td>\n",
       "      <td>0.0</td>\n",
       "      <td>0.001148</td>\n",
       "      <td>0.002201</td>\n",
       "      <td>0.0</td>\n",
       "      <td>0.0</td>\n",
       "      <td>0.0</td>\n",
       "      <td>0.0</td>\n",
       "      <td>0.0</td>\n",
       "      <td>...</td>\n",
       "      <td>0.007249</td>\n",
       "      <td>0.0</td>\n",
       "      <td>0.019898</td>\n",
       "      <td>0.004117</td>\n",
       "      <td>0.007195</td>\n",
       "      <td>0.0</td>\n",
       "      <td>0.0</td>\n",
       "      <td>0.0</td>\n",
       "      <td>0.0</td>\n",
       "      <td>0.035351</td>\n",
       "    </tr>\n",
       "    <tr>\n",
       "      <th>std</th>\n",
       "      <td>0.0</td>\n",
       "      <td>0.0</td>\n",
       "      <td>0.0</td>\n",
       "      <td>0.008297</td>\n",
       "      <td>0.017718</td>\n",
       "      <td>0.0</td>\n",
       "      <td>0.0</td>\n",
       "      <td>0.0</td>\n",
       "      <td>0.0</td>\n",
       "      <td>0.0</td>\n",
       "      <td>...</td>\n",
       "      <td>0.078380</td>\n",
       "      <td>0.0</td>\n",
       "      <td>0.197565</td>\n",
       "      <td>0.029337</td>\n",
       "      <td>0.068544</td>\n",
       "      <td>0.0</td>\n",
       "      <td>0.0</td>\n",
       "      <td>0.0</td>\n",
       "      <td>0.0</td>\n",
       "      <td>0.307303</td>\n",
       "    </tr>\n",
       "    <tr>\n",
       "      <th>min</th>\n",
       "      <td>0.0</td>\n",
       "      <td>0.0</td>\n",
       "      <td>0.0</td>\n",
       "      <td>0.000000</td>\n",
       "      <td>0.000000</td>\n",
       "      <td>0.0</td>\n",
       "      <td>0.0</td>\n",
       "      <td>0.0</td>\n",
       "      <td>0.0</td>\n",
       "      <td>0.0</td>\n",
       "      <td>...</td>\n",
       "      <td>0.000000</td>\n",
       "      <td>0.0</td>\n",
       "      <td>0.000000</td>\n",
       "      <td>0.000000</td>\n",
       "      <td>0.000000</td>\n",
       "      <td>0.0</td>\n",
       "      <td>0.0</td>\n",
       "      <td>0.0</td>\n",
       "      <td>0.0</td>\n",
       "      <td>0.000000</td>\n",
       "    </tr>\n",
       "    <tr>\n",
       "      <th>25%</th>\n",
       "      <td>0.0</td>\n",
       "      <td>0.0</td>\n",
       "      <td>0.0</td>\n",
       "      <td>0.000327</td>\n",
       "      <td>0.000308</td>\n",
       "      <td>0.0</td>\n",
       "      <td>0.0</td>\n",
       "      <td>0.0</td>\n",
       "      <td>0.0</td>\n",
       "      <td>0.0</td>\n",
       "      <td>...</td>\n",
       "      <td>0.000417</td>\n",
       "      <td>0.0</td>\n",
       "      <td>0.000451</td>\n",
       "      <td>0.000371</td>\n",
       "      <td>0.000391</td>\n",
       "      <td>0.0</td>\n",
       "      <td>0.0</td>\n",
       "      <td>0.0</td>\n",
       "      <td>0.0</td>\n",
       "      <td>0.000417</td>\n",
       "    </tr>\n",
       "    <tr>\n",
       "      <th>50%</th>\n",
       "      <td>0.0</td>\n",
       "      <td>0.0</td>\n",
       "      <td>0.0</td>\n",
       "      <td>0.000494</td>\n",
       "      <td>0.000495</td>\n",
       "      <td>0.0</td>\n",
       "      <td>0.0</td>\n",
       "      <td>0.0</td>\n",
       "      <td>0.0</td>\n",
       "      <td>0.0</td>\n",
       "      <td>...</td>\n",
       "      <td>0.000485</td>\n",
       "      <td>0.0</td>\n",
       "      <td>0.000855</td>\n",
       "      <td>0.000576</td>\n",
       "      <td>0.000486</td>\n",
       "      <td>0.0</td>\n",
       "      <td>0.0</td>\n",
       "      <td>0.0</td>\n",
       "      <td>0.0</td>\n",
       "      <td>0.000796</td>\n",
       "    </tr>\n",
       "    <tr>\n",
       "      <th>75%</th>\n",
       "      <td>0.0</td>\n",
       "      <td>0.0</td>\n",
       "      <td>0.0</td>\n",
       "      <td>0.000554</td>\n",
       "      <td>0.000696</td>\n",
       "      <td>0.0</td>\n",
       "      <td>0.0</td>\n",
       "      <td>0.0</td>\n",
       "      <td>0.0</td>\n",
       "      <td>0.0</td>\n",
       "      <td>...</td>\n",
       "      <td>0.002053</td>\n",
       "      <td>0.0</td>\n",
       "      <td>0.004673</td>\n",
       "      <td>0.000721</td>\n",
       "      <td>0.002373</td>\n",
       "      <td>0.0</td>\n",
       "      <td>0.0</td>\n",
       "      <td>0.0</td>\n",
       "      <td>0.0</td>\n",
       "      <td>0.005000</td>\n",
       "    </tr>\n",
       "    <tr>\n",
       "      <th>max</th>\n",
       "      <td>0.0</td>\n",
       "      <td>0.0</td>\n",
       "      <td>0.0</td>\n",
       "      <td>0.282383</td>\n",
       "      <td>0.591902</td>\n",
       "      <td>0.0</td>\n",
       "      <td>0.0</td>\n",
       "      <td>0.0</td>\n",
       "      <td>0.0</td>\n",
       "      <td>0.0</td>\n",
       "      <td>...</td>\n",
       "      <td>2.156260</td>\n",
       "      <td>0.0</td>\n",
       "      <td>5.050270</td>\n",
       "      <td>0.833592</td>\n",
       "      <td>1.661720</td>\n",
       "      <td>0.0</td>\n",
       "      <td>0.0</td>\n",
       "      <td>0.0</td>\n",
       "      <td>0.0</td>\n",
       "      <td>5.349251</td>\n",
       "    </tr>\n",
       "  </tbody>\n",
       "</table>\n",
       "<p>8 rows × 349 columns</p>\n",
       "</div>"
      ],
      "text/plain": [
       "       boyas120_000000  boyas120_000001  boyas120_000002  boyas120_000003  \\\n",
       "count           5761.0           5761.0           5761.0      5761.000000   \n",
       "mean               0.0              0.0              0.0         0.001148   \n",
       "std                0.0              0.0              0.0         0.008297   \n",
       "min                0.0              0.0              0.0         0.000000   \n",
       "25%                0.0              0.0              0.0         0.000327   \n",
       "50%                0.0              0.0              0.0         0.000494   \n",
       "75%                0.0              0.0              0.0         0.000554   \n",
       "max                0.0              0.0              0.0         0.282383   \n",
       "\n",
       "       boyas120_000004  boyas120_000005  boyas120_000006  boyas120_000007  \\\n",
       "count      5761.000000           5761.0           5761.0           5761.0   \n",
       "mean          0.002201              0.0              0.0              0.0   \n",
       "std           0.017718              0.0              0.0              0.0   \n",
       "min           0.000000              0.0              0.0              0.0   \n",
       "25%           0.000308              0.0              0.0              0.0   \n",
       "50%           0.000495              0.0              0.0              0.0   \n",
       "75%           0.000696              0.0              0.0              0.0   \n",
       "max           0.591902              0.0              0.0              0.0   \n",
       "\n",
       "       boyas120_000008  boyas120_000009  ...  boyas120_000340  \\\n",
       "count           5761.0           5761.0  ...      5761.000000   \n",
       "mean               0.0              0.0  ...         0.007249   \n",
       "std                0.0              0.0  ...         0.078380   \n",
       "min                0.0              0.0  ...         0.000000   \n",
       "25%                0.0              0.0  ...         0.000417   \n",
       "50%                0.0              0.0  ...         0.000485   \n",
       "75%                0.0              0.0  ...         0.002053   \n",
       "max                0.0              0.0  ...         2.156260   \n",
       "\n",
       "       boyas120_000341  boyas120_000342  boyas120_000343  boyas120_000344  \\\n",
       "count           5761.0      5761.000000      5761.000000      5761.000000   \n",
       "mean               0.0         0.019898         0.004117         0.007195   \n",
       "std                0.0         0.197565         0.029337         0.068544   \n",
       "min                0.0         0.000000         0.000000         0.000000   \n",
       "25%                0.0         0.000451         0.000371         0.000391   \n",
       "50%                0.0         0.000855         0.000576         0.000486   \n",
       "75%                0.0         0.004673         0.000721         0.002373   \n",
       "max                0.0         5.050270         0.833592         1.661720   \n",
       "\n",
       "       boyas120_000345  boyas120_000346  boyas120_000347  boyas120_000348  \\\n",
       "count           5761.0           5761.0           5761.0           5761.0   \n",
       "mean               0.0              0.0              0.0              0.0   \n",
       "std                0.0              0.0              0.0              0.0   \n",
       "min                0.0              0.0              0.0              0.0   \n",
       "25%                0.0              0.0              0.0              0.0   \n",
       "50%                0.0              0.0              0.0              0.0   \n",
       "75%                0.0              0.0              0.0              0.0   \n",
       "max                0.0              0.0              0.0              0.0   \n",
       "\n",
       "       boyas120_000349  \n",
       "count      5761.000000  \n",
       "mean          0.035351  \n",
       "std           0.307303  \n",
       "min           0.000000  \n",
       "25%           0.000417  \n",
       "50%           0.000796  \n",
       "75%           0.005000  \n",
       "max           5.349251  \n",
       "\n",
       "[8 rows x 349 columns]"
      ]
     },
     "execution_count": 9,
     "metadata": {},
     "output_type": "execute_result"
    }
   ],
   "source": [
    "df.describe()"
   ]
  },
  {
   "cell_type": "code",
   "execution_count": 10,
   "metadata": {},
   "outputs": [
    {
     "data": {
      "text/plain": [
       "349"
      ]
     },
     "execution_count": 10,
     "metadata": {},
     "output_type": "execute_result"
    }
   ],
   "source": [
    "indexC = df.columns\n",
    "len(indexC)"
   ]
  },
  {
   "cell_type": "code",
   "execution_count": 11,
   "metadata": {},
   "outputs": [],
   "source": [
    "Inu = []\n",
    "inu = {}\n",
    "NoInu = []\n",
    "c = -1\n",
    "groups = []\n",
    "for i in indexC:\n",
    "    if i.startswith(\"boyas120\"):\n",
    "        c+=1\n",
    "        if df[i].max()>0:\n",
    "            groups.append(1)\n",
    "            Inu.append(c)\n",
    "            inu[i] = [df[i].max()]\n",
    "        else:\n",
    "            NoInu.append(c)\n",
    "            groups.append(0)"
   ]
  },
  {
   "cell_type": "code",
   "execution_count": 12,
   "metadata": {},
   "outputs": [
    {
     "data": {
      "text/html": [
       "<div>\n",
       "<style scoped>\n",
       "    .dataframe tbody tr th:only-of-type {\n",
       "        vertical-align: middle;\n",
       "    }\n",
       "\n",
       "    .dataframe tbody tr th {\n",
       "        vertical-align: top;\n",
       "    }\n",
       "\n",
       "    .dataframe thead th {\n",
       "        text-align: right;\n",
       "    }\n",
       "</style>\n",
       "<table border=\"1\" class=\"dataframe\">\n",
       "  <thead>\n",
       "    <tr style=\"text-align: right;\">\n",
       "      <th></th>\n",
       "      <th>boyas120_000003</th>\n",
       "      <th>boyas120_000004</th>\n",
       "      <th>boyas120_000010</th>\n",
       "      <th>boyas120_000025</th>\n",
       "      <th>boyas120_000026</th>\n",
       "      <th>boyas120_000058</th>\n",
       "      <th>boyas120_000060</th>\n",
       "      <th>boyas120_000077</th>\n",
       "      <th>boyas120_000085</th>\n",
       "      <th>boyas120_000088</th>\n",
       "      <th>...</th>\n",
       "      <th>boyas120_000333</th>\n",
       "      <th>boyas120_000334</th>\n",
       "      <th>boyas120_000335</th>\n",
       "      <th>boyas120_000336</th>\n",
       "      <th>boyas120_000338</th>\n",
       "      <th>boyas120_000340</th>\n",
       "      <th>boyas120_000342</th>\n",
       "      <th>boyas120_000343</th>\n",
       "      <th>boyas120_000344</th>\n",
       "      <th>boyas120_000349</th>\n",
       "    </tr>\n",
       "  </thead>\n",
       "  <tbody>\n",
       "    <tr>\n",
       "      <th>0</th>\n",
       "      <td>0.282383</td>\n",
       "      <td>0.591902</td>\n",
       "      <td>1.267399</td>\n",
       "      <td>0.598447</td>\n",
       "      <td>5.401462</td>\n",
       "      <td>0.76242</td>\n",
       "      <td>3.848991</td>\n",
       "      <td>0.047358</td>\n",
       "      <td>0.174649</td>\n",
       "      <td>0.061528</td>\n",
       "      <td>...</td>\n",
       "      <td>3.499454</td>\n",
       "      <td>3.58686</td>\n",
       "      <td>0.325661</td>\n",
       "      <td>9.599476</td>\n",
       "      <td>4.149571</td>\n",
       "      <td>2.15626</td>\n",
       "      <td>5.05027</td>\n",
       "      <td>0.833592</td>\n",
       "      <td>1.66172</td>\n",
       "      <td>5.349251</td>\n",
       "    </tr>\n",
       "  </tbody>\n",
       "</table>\n",
       "<p>1 rows × 100 columns</p>\n",
       "</div>"
      ],
      "text/plain": [
       "   boyas120_000003  boyas120_000004  boyas120_000010  boyas120_000025  \\\n",
       "0         0.282383         0.591902         1.267399         0.598447   \n",
       "\n",
       "   boyas120_000026  boyas120_000058  boyas120_000060  boyas120_000077  \\\n",
       "0         5.401462          0.76242         3.848991         0.047358   \n",
       "\n",
       "   boyas120_000085  boyas120_000088  ...  boyas120_000333  boyas120_000334  \\\n",
       "0         0.174649         0.061528  ...         3.499454          3.58686   \n",
       "\n",
       "   boyas120_000335  boyas120_000336  boyas120_000338  boyas120_000340  \\\n",
       "0         0.325661         9.599476         4.149571          2.15626   \n",
       "\n",
       "   boyas120_000342  boyas120_000343  boyas120_000344  boyas120_000349  \n",
       "0          5.05027         0.833592          1.66172         5.349251  \n",
       "\n",
       "[1 rows x 100 columns]"
      ]
     },
     "execution_count": 12,
     "metadata": {},
     "output_type": "execute_result"
    }
   ],
   "source": [
    "inu = pd.DataFrame(inu)\n",
    "inu"
   ]
  },
  {
   "cell_type": "code",
   "execution_count": 13,
   "metadata": {},
   "outputs": [
    {
     "name": "stdout",
     "output_type": "stream",
     "text": [
      "No Inunda % 71.34670487106017\n",
      "Si Inunda % 28.653295128939828\n"
     ]
    }
   ],
   "source": [
    "print('No Inunda %',(len(NoInu)/(len(NoInu)+len(Inu)))*100)\n",
    "print('Si Inunda %',(len(Inu)/(len(NoInu)+len(Inu)))*100)"
   ]
  },
  {
   "cell_type": "code",
   "execution_count": 14,
   "metadata": {},
   "outputs": [
    {
     "name": "stdout",
     "output_type": "stream",
     "text": [
      "[3, 4, 10, 25, 26, 58, 60, 77, 85, 88, 93, 105, 111, 112, 126, 137, 139, 143, 149, 152, 155, 157, 165, 167, 169, 170, 174, 191, 194, 196, 197, 198, 204, 205, 206, 207, 208, 212, 214, 217, 219, 220, 221, 222, 224, 226, 228, 230, 231, 242, 243, 245, 247, 250, 253, 254, 255, 259, 260, 266, 271, 273, 274, 276, 277, 280, 281, 284, 285, 290, 291, 294, 296, 297, 298, 299, 301, 303, 304, 308, 311, 312, 314, 317, 318, 319, 320, 323, 325, 327, 332, 333, 334, 335, 337, 339, 341, 342, 343, 348]\n"
     ]
    }
   ],
   "source": [
    "print(Inu)"
   ]
  },
  {
   "cell_type": "code",
   "execution_count": 15,
   "metadata": {},
   "outputs": [
    {
     "name": "stdout",
     "output_type": "stream",
     "text": [
      "[0, 0, 0, 1, 1, 0, 0, 0, 0, 0, 1, 0, 0, 0, 0, 0, 0, 0, 0, 0, 0, 0, 0, 0, 0, 1, 1, 0, 0, 0, 0, 0, 0, 0, 0, 0, 0, 0, 0, 0, 0, 0, 0, 0, 0, 0, 0, 0, 0, 0, 0, 0, 0, 0, 0, 0, 0, 0, 1, 0, 1, 0, 0, 0, 0, 0, 0, 0, 0, 0, 0, 0, 0, 0, 0, 0, 0, 1, 0, 0, 0, 0, 0, 0, 0, 1, 0, 0, 1, 0, 0, 0, 0, 1, 0, 0, 0, 0, 0, 0, 0, 0, 0, 0, 0, 1, 0, 0, 0, 0, 0, 1, 1, 0, 0, 0, 0, 0, 0, 0, 0, 0, 0, 0, 0, 0, 1, 0, 0, 0, 0, 0, 0, 0, 0, 0, 0, 1, 0, 1, 0, 0, 0, 1, 0, 0, 0, 0, 0, 1, 0, 0, 1, 0, 0, 1, 0, 1, 0, 0, 0, 0, 0, 0, 0, 1, 0, 1, 0, 1, 1, 0, 0, 0, 1, 0, 0, 0, 0, 0, 0, 0, 0, 0, 0, 0, 0, 0, 0, 0, 0, 1, 0, 0, 1, 0, 1, 1, 1, 0, 0, 0, 0, 0, 1, 1, 1, 1, 1, 0, 0, 0, 1, 0, 1, 0, 0, 1, 0, 1, 1, 1, 1, 0, 1, 0, 1, 0, 1, 0, 1, 1, 0, 0, 0, 0, 0, 0, 0, 0, 0, 0, 1, 1, 0, 1, 0, 1, 0, 0, 1, 0, 0, 1, 1, 1, 0, 0, 0, 1, 1, 0, 0, 0, 0, 0, 1, 0, 0, 0, 0, 1, 0, 1, 1, 0, 1, 1, 0, 0, 1, 1, 0, 0, 1, 1, 0, 0, 0, 0, 1, 1, 0, 0, 1, 0, 1, 1, 1, 1, 0, 1, 0, 1, 1, 0, 0, 0, 1, 0, 0, 1, 1, 0, 1, 0, 0, 1, 1, 1, 1, 0, 0, 1, 0, 1, 0, 1, 0, 0, 0, 0, 1, 1, 1, 1, 0, 1, 0, 1, 0, 1, 1, 1, 0, 0, 0, 0, 1]\n"
     ]
    }
   ],
   "source": [
    "print(groups)"
   ]
  },
  {
   "cell_type": "code",
   "execution_count": null,
   "metadata": {},
   "outputs": [],
   "source": []
  },
  {
   "cell_type": "code",
   "execution_count": 16,
   "metadata": {},
   "outputs": [
    {
     "data": {
      "text/plain": [
       "349"
      ]
     },
     "execution_count": 16,
     "metadata": {},
     "output_type": "execute_result"
    }
   ],
   "source": [
    "len(groups)"
   ]
  },
  {
   "cell_type": "code",
   "execution_count": 17,
   "metadata": {},
   "outputs": [
    {
     "data": {
      "text/plain": [
       "100"
      ]
     },
     "execution_count": 17,
     "metadata": {},
     "output_type": "execute_result"
    }
   ],
   "source": [
    "len(Inu)"
   ]
  },
  {
   "cell_type": "code",
   "execution_count": 18,
   "metadata": {},
   "outputs": [
    {
     "data": {
      "text/plain": [
       "348.0"
      ]
     },
     "execution_count": 18,
     "metadata": {},
     "output_type": "execute_result"
    }
   ],
   "source": [
    "696/2"
   ]
  },
  {
   "cell_type": "code",
   "execution_count": 19,
   "metadata": {},
   "outputs": [],
   "source": [
    "lista1 = [1,2,3,4]\n",
    "lista2 = [5,6,7,8]\n",
    "lista1+=lista2"
   ]
  },
  {
   "cell_type": "code",
   "execution_count": 20,
   "metadata": {},
   "outputs": [
    {
     "data": {
      "text/plain": [
       "[1, 2, 3, 4, 5, 6, 7, 8]"
      ]
     },
     "execution_count": 20,
     "metadata": {},
     "output_type": "execute_result"
    }
   ],
   "source": [
    "lista1"
   ]
  },
  {
   "cell_type": "code",
   "execution_count": 21,
   "metadata": {},
   "outputs": [],
   "source": [
    "lista = np.random.shuffle(lista1)\n",
    "\n"
   ]
  },
  {
   "cell_type": "code",
   "execution_count": 22,
   "metadata": {},
   "outputs": [
    {
     "data": {
      "text/plain": [
       "[8, 7, 2, 1, 5, 4, 6, 3]"
      ]
     },
     "execution_count": 22,
     "metadata": {},
     "output_type": "execute_result"
    }
   ],
   "source": [
    "lista1"
   ]
  },
  {
   "cell_type": "code",
   "execution_count": null,
   "metadata": {},
   "outputs": [],
   "source": []
  }
 ],
 "metadata": {
  "kernelspec": {
   "display_name": "Python 3",
   "language": "python",
   "name": "python3"
  },
  "language_info": {
   "codemirror_mode": {
    "name": "ipython",
    "version": 3
   },
   "file_extension": ".py",
   "mimetype": "text/x-python",
   "name": "python",
   "nbconvert_exporter": "python",
   "pygments_lexer": "ipython3",
   "version": "3.7.0"
  }
 },
 "nbformat": 4,
 "nbformat_minor": 4
}
