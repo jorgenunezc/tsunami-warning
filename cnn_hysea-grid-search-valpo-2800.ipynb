{
 "cells": [
  {
   "cell_type": "code",
   "execution_count": 1,
   "metadata": {},
   "outputs": [],
   "source": [
    "import os\n",
    "os.environ[\"CUDA_DEVICE_ORDER\"] = \"PCI_BUS_ID\"\n",
    "os.environ[\"CUDA_VISIBLE_DEVICES\"] = \"\""
   ]
  },
  {
   "cell_type": "code",
   "execution_count": 2,
   "metadata": {},
   "outputs": [
    {
     "name": "stderr",
     "output_type": "stream",
     "text": [
      "/home/jorge/anaconda3/envs/machinelearning/lib/python3.7/site-packages/tensorflow/python/framework/dtypes.py:516: FutureWarning: Passing (type, 1) or '1type' as a synonym of type is deprecated; in a future version of numpy, it will be understood as (type, (1,)) / '(1,)type'.\n",
      "  _np_qint8 = np.dtype([(\"qint8\", np.int8, 1)])\n",
      "/home/jorge/anaconda3/envs/machinelearning/lib/python3.7/site-packages/tensorflow/python/framework/dtypes.py:517: FutureWarning: Passing (type, 1) or '1type' as a synonym of type is deprecated; in a future version of numpy, it will be understood as (type, (1,)) / '(1,)type'.\n",
      "  _np_quint8 = np.dtype([(\"quint8\", np.uint8, 1)])\n",
      "/home/jorge/anaconda3/envs/machinelearning/lib/python3.7/site-packages/tensorflow/python/framework/dtypes.py:518: FutureWarning: Passing (type, 1) or '1type' as a synonym of type is deprecated; in a future version of numpy, it will be understood as (type, (1,)) / '(1,)type'.\n",
      "  _np_qint16 = np.dtype([(\"qint16\", np.int16, 1)])\n",
      "/home/jorge/anaconda3/envs/machinelearning/lib/python3.7/site-packages/tensorflow/python/framework/dtypes.py:519: FutureWarning: Passing (type, 1) or '1type' as a synonym of type is deprecated; in a future version of numpy, it will be understood as (type, (1,)) / '(1,)type'.\n",
      "  _np_quint16 = np.dtype([(\"quint16\", np.uint16, 1)])\n",
      "/home/jorge/anaconda3/envs/machinelearning/lib/python3.7/site-packages/tensorflow/python/framework/dtypes.py:520: FutureWarning: Passing (type, 1) or '1type' as a synonym of type is deprecated; in a future version of numpy, it will be understood as (type, (1,)) / '(1,)type'.\n",
      "  _np_qint32 = np.dtype([(\"qint32\", np.int32, 1)])\n",
      "/home/jorge/anaconda3/envs/machinelearning/lib/python3.7/site-packages/tensorflow/python/framework/dtypes.py:525: FutureWarning: Passing (type, 1) or '1type' as a synonym of type is deprecated; in a future version of numpy, it will be understood as (type, (1,)) / '(1,)type'.\n",
      "  np_resource = np.dtype([(\"resource\", np.ubyte, 1)])\n",
      "/home/jorge/anaconda3/envs/machinelearning/lib/python3.7/site-packages/tensorboard/compat/tensorflow_stub/dtypes.py:541: FutureWarning: Passing (type, 1) or '1type' as a synonym of type is deprecated; in a future version of numpy, it will be understood as (type, (1,)) / '(1,)type'.\n",
      "  _np_qint8 = np.dtype([(\"qint8\", np.int8, 1)])\n",
      "/home/jorge/anaconda3/envs/machinelearning/lib/python3.7/site-packages/tensorboard/compat/tensorflow_stub/dtypes.py:542: FutureWarning: Passing (type, 1) or '1type' as a synonym of type is deprecated; in a future version of numpy, it will be understood as (type, (1,)) / '(1,)type'.\n",
      "  _np_quint8 = np.dtype([(\"quint8\", np.uint8, 1)])\n",
      "/home/jorge/anaconda3/envs/machinelearning/lib/python3.7/site-packages/tensorboard/compat/tensorflow_stub/dtypes.py:543: FutureWarning: Passing (type, 1) or '1type' as a synonym of type is deprecated; in a future version of numpy, it will be understood as (type, (1,)) / '(1,)type'.\n",
      "  _np_qint16 = np.dtype([(\"qint16\", np.int16, 1)])\n",
      "/home/jorge/anaconda3/envs/machinelearning/lib/python3.7/site-packages/tensorboard/compat/tensorflow_stub/dtypes.py:544: FutureWarning: Passing (type, 1) or '1type' as a synonym of type is deprecated; in a future version of numpy, it will be understood as (type, (1,)) / '(1,)type'.\n",
      "  _np_quint16 = np.dtype([(\"quint16\", np.uint16, 1)])\n",
      "/home/jorge/anaconda3/envs/machinelearning/lib/python3.7/site-packages/tensorboard/compat/tensorflow_stub/dtypes.py:545: FutureWarning: Passing (type, 1) or '1type' as a synonym of type is deprecated; in a future version of numpy, it will be understood as (type, (1,)) / '(1,)type'.\n",
      "  _np_qint32 = np.dtype([(\"qint32\", np.int32, 1)])\n",
      "/home/jorge/anaconda3/envs/machinelearning/lib/python3.7/site-packages/tensorboard/compat/tensorflow_stub/dtypes.py:550: FutureWarning: Passing (type, 1) or '1type' as a synonym of type is deprecated; in a future version of numpy, it will be understood as (type, (1,)) / '(1,)type'.\n",
      "  np_resource = np.dtype([(\"resource\", np.ubyte, 1)])\n",
      "Using TensorFlow backend.\n"
     ]
    }
   ],
   "source": [
    "import tensorflow as tf\n",
    "import numpy as np\n",
    "import random as rn\n",
    "\n",
    "seed = 0 # Here sd means seed.\n",
    "np.random.seed(seed)\n",
    "rn.seed(seed)\n",
    "os.environ['PYTHONHASHSEED']=str(seed)\n",
    "\n",
    "from keras import backend as K\n",
    "config = tf.ConfigProto(intra_op_parallelism_threads=1,inter_op_parallelism_threads=1)\n",
    "tf.set_random_seed(seed)\n",
    "sess = tf.Session(graph=tf.get_default_graph(), config=config)\n",
    "K.set_session(sess)"
   ]
  },
  {
   "cell_type": "code",
   "execution_count": 3,
   "metadata": {},
   "outputs": [],
   "source": [
    "import os\n",
    "import numpy as np\n",
    "import matplotlib.pyplot as plt\n",
    "import pandas as pd\n",
    "import math\n",
    "from keras.models import Sequential\n",
    "from keras.layers import Dense\n",
    "from keras.layers import LSTM\n",
    "from keras.layers import Flatten\n",
    "from keras.layers.convolutional import Conv1D\n",
    "from keras.layers.convolutional import MaxPooling1D\n",
    "from keras.layers import TimeDistributed\n",
    "from keras.layers import BatchNormalization\n",
    "from tensorflow.keras import initializers\n",
    "\n",
    "from keras.callbacks import EarlyStopping\n",
    "\n",
    " \n",
    "\n",
    "#from tensorflow.keras.layers import Attention\n",
    "#from attention_decoder import AttentionDecoder\n",
    "from sklearn.preprocessing import MinMaxScaler\n",
    "from sklearn.metrics import mean_squared_error as MSE\n",
    "from sklearn.metrics import mean_absolute_error as MAE\n",
    "from sklearn.metrics import max_error\n",
    "import seaborn as sns\n",
    "from keras.callbacks import History \n",
    "from sklearn.model_selection import KFold \n",
    "from keras.layers import Dropout\n",
    "from keras.optimizers import Adam\n",
    "from keras.layers import Bidirectional\n",
    "from sklearn.preprocessing import StandardScaler\n",
    "from sklearn.model_selection import StratifiedKFold\n",
    "from sklearn.model_selection import GroupShuffleSplit"
   ]
  },
  {
   "cell_type": "code",
   "execution_count": 4,
   "metadata": {},
   "outputs": [
    {
     "name": "stdout",
     "output_type": "stream",
     "text": [
      "/home/jorge/tsunami-warning/dataset/ts_jorge_2800_3L/\n"
     ]
    }
   ],
   "source": [
    "path = os.getcwd()\n",
    "folder = path+\"/dataset/ts_jorge_2800_3L/\"\n",
    "print(folder)"
   ]
  },
  {
   "cell_type": "code",
   "execution_count": 5,
   "metadata": {},
   "outputs": [],
   "source": [
    "boya_x = 14\n",
    "boya_y = 29\n",
    "\n",
    "df_x = pd.read_json(folder+'DataFrame_boya-'+str(boya_x)+'-3L.json') # cargar dataframe\n",
    "df_y = pd.read_json(folder+'DataFrame_boya-'+str(boya_y)+'-3L.json') # cargar dataframe"
   ]
  },
  {
   "cell_type": "code",
   "execution_count": 6,
   "metadata": {},
   "outputs": [],
   "source": [
    "index = pd.date_range('25/8/2020', periods=len(df_x), freq='10S')\n",
    "Datetime = pd.DataFrame({'Datetime':index})"
   ]
  },
  {
   "cell_type": "code",
   "execution_count": 7,
   "metadata": {},
   "outputs": [],
   "source": [
    "df_x = pd.concat([Datetime, df_x], axis=1,)\n",
    "df_y = pd.concat([Datetime, df_y], axis=1,)"
   ]
  },
  {
   "cell_type": "markdown",
   "metadata": {},
   "source": [
    "## Generación de Grupos (Inunda- No Inunda)"
   ]
  },
  {
   "cell_type": "code",
   "execution_count": 8,
   "metadata": {},
   "outputs": [
    {
     "data": {
      "text/plain": [
       "2789"
      ]
     },
     "execution_count": 8,
     "metadata": {},
     "output_type": "execute_result"
    }
   ],
   "source": [
    "indexC = df_y.columns\n",
    "len(indexC)"
   ]
  },
  {
   "cell_type": "code",
   "execution_count": 9,
   "metadata": {},
   "outputs": [],
   "source": [
    "Inu = []\n",
    "inu = {}\n",
    "NoInu = []\n",
    "c = -1\n",
    "groups = []\n",
    "for i in indexC:\n",
    "    if i.startswith(\"boyas\"+str(boya_y)):\n",
    "        c+=1\n",
    "        if df_y[i].max()>0:\n",
    "            groups.append(1)\n",
    "            Inu.append(c)\n",
    "            inu[i] = [df_y[i].max()]\n",
    "        else:\n",
    "            NoInu.append(c)\n",
    "            groups.append(0)"
   ]
  },
  {
   "cell_type": "code",
   "execution_count": 10,
   "metadata": {},
   "outputs": [],
   "source": [
    "df_x = df_x.loc[0:180*1]# solo la primera 0.5 hora de registro\n",
    "df_y = df_y.loc[0:180*1]# solo la primera 0.5 hora de registro"
   ]
  },
  {
   "cell_type": "code",
   "execution_count": 11,
   "metadata": {},
   "outputs": [
    {
     "data": {
      "text/html": [
       "<div>\n",
       "<style scoped>\n",
       "    .dataframe tbody tr th:only-of-type {\n",
       "        vertical-align: middle;\n",
       "    }\n",
       "\n",
       "    .dataframe tbody tr th {\n",
       "        vertical-align: top;\n",
       "    }\n",
       "\n",
       "    .dataframe thead th {\n",
       "        text-align: right;\n",
       "    }\n",
       "</style>\n",
       "<table border=\"1\" class=\"dataframe\">\n",
       "  <thead>\n",
       "    <tr style=\"text-align: right;\">\n",
       "      <th></th>\n",
       "      <th>boyas14_ts0000</th>\n",
       "      <th>boyas14_ts0001</th>\n",
       "      <th>boyas14_ts0002</th>\n",
       "      <th>boyas14_ts0003</th>\n",
       "      <th>boyas14_ts0004</th>\n",
       "      <th>boyas14_ts0005</th>\n",
       "      <th>boyas14_ts0006</th>\n",
       "      <th>boyas14_ts0007</th>\n",
       "      <th>boyas14_ts0008</th>\n",
       "      <th>boyas14_ts0009</th>\n",
       "      <th>...</th>\n",
       "      <th>boyas14_ts2790</th>\n",
       "      <th>boyas14_ts2791</th>\n",
       "      <th>boyas14_ts2792</th>\n",
       "      <th>boyas14_ts2793</th>\n",
       "      <th>boyas14_ts2794</th>\n",
       "      <th>boyas14_ts2795</th>\n",
       "      <th>boyas14_ts2796</th>\n",
       "      <th>boyas14_ts2797</th>\n",
       "      <th>boyas14_ts2798</th>\n",
       "      <th>boyas14_ts2799</th>\n",
       "    </tr>\n",
       "  </thead>\n",
       "  <tbody>\n",
       "    <tr>\n",
       "      <th>count</th>\n",
       "      <td>181.000000</td>\n",
       "      <td>181.000000</td>\n",
       "      <td>181.000000</td>\n",
       "      <td>181.000000</td>\n",
       "      <td>181.000000</td>\n",
       "      <td>181.000000</td>\n",
       "      <td>181.000000</td>\n",
       "      <td>181.000000</td>\n",
       "      <td>181.000000</td>\n",
       "      <td>181.000000</td>\n",
       "      <td>...</td>\n",
       "      <td>181.000000</td>\n",
       "      <td>181.000000</td>\n",
       "      <td>181.000000</td>\n",
       "      <td>181.000000</td>\n",
       "      <td>181.000000</td>\n",
       "      <td>181.000000</td>\n",
       "      <td>181.000000</td>\n",
       "      <td>181.000000</td>\n",
       "      <td>181.000000</td>\n",
       "      <td>181.000000</td>\n",
       "    </tr>\n",
       "    <tr>\n",
       "      <th>mean</th>\n",
       "      <td>-0.492480</td>\n",
       "      <td>0.507394</td>\n",
       "      <td>-2.011207</td>\n",
       "      <td>-0.054610</td>\n",
       "      <td>0.030263</td>\n",
       "      <td>-0.373332</td>\n",
       "      <td>-0.504375</td>\n",
       "      <td>-0.856791</td>\n",
       "      <td>-0.077619</td>\n",
       "      <td>0.152410</td>\n",
       "      <td>...</td>\n",
       "      <td>3.076605</td>\n",
       "      <td>0.947836</td>\n",
       "      <td>0.463505</td>\n",
       "      <td>-1.480160</td>\n",
       "      <td>0.408618</td>\n",
       "      <td>-0.533419</td>\n",
       "      <td>-0.018418</td>\n",
       "      <td>-3.381489</td>\n",
       "      <td>-0.827312</td>\n",
       "      <td>-0.649918</td>\n",
       "    </tr>\n",
       "    <tr>\n",
       "      <th>std</th>\n",
       "      <td>0.463236</td>\n",
       "      <td>0.501607</td>\n",
       "      <td>1.448863</td>\n",
       "      <td>0.264177</td>\n",
       "      <td>0.134734</td>\n",
       "      <td>0.251610</td>\n",
       "      <td>0.480279</td>\n",
       "      <td>0.674131</td>\n",
       "      <td>1.024499</td>\n",
       "      <td>0.134323</td>\n",
       "      <td>...</td>\n",
       "      <td>3.906991</td>\n",
       "      <td>0.852627</td>\n",
       "      <td>1.756684</td>\n",
       "      <td>3.321676</td>\n",
       "      <td>1.424531</td>\n",
       "      <td>1.838447</td>\n",
       "      <td>1.246908</td>\n",
       "      <td>5.201241</td>\n",
       "      <td>0.865543</td>\n",
       "      <td>2.092550</td>\n",
       "    </tr>\n",
       "    <tr>\n",
       "      <th>min</th>\n",
       "      <td>-1.203184</td>\n",
       "      <td>-0.219757</td>\n",
       "      <td>-3.897851</td>\n",
       "      <td>-0.808506</td>\n",
       "      <td>-0.189814</td>\n",
       "      <td>-0.762288</td>\n",
       "      <td>-1.184207</td>\n",
       "      <td>-1.852629</td>\n",
       "      <td>-2.094189</td>\n",
       "      <td>-0.000837</td>\n",
       "      <td>...</td>\n",
       "      <td>-3.107658</td>\n",
       "      <td>0.000000</td>\n",
       "      <td>-3.286161</td>\n",
       "      <td>-8.102111</td>\n",
       "      <td>-2.491845</td>\n",
       "      <td>-4.610311</td>\n",
       "      <td>-2.337385</td>\n",
       "      <td>-12.266755</td>\n",
       "      <td>-2.932384</td>\n",
       "      <td>-5.189206</td>\n",
       "    </tr>\n",
       "    <tr>\n",
       "      <th>25%</th>\n",
       "      <td>-1.009395</td>\n",
       "      <td>0.093586</td>\n",
       "      <td>-3.574881</td>\n",
       "      <td>-0.051238</td>\n",
       "      <td>-0.055858</td>\n",
       "      <td>-0.589425</td>\n",
       "      <td>-1.009184</td>\n",
       "      <td>-1.510336</td>\n",
       "      <td>-1.092439</td>\n",
       "      <td>0.012968</td>\n",
       "      <td>...</td>\n",
       "      <td>0.062575</td>\n",
       "      <td>0.061871</td>\n",
       "      <td>-0.092177</td>\n",
       "      <td>-5.127423</td>\n",
       "      <td>-0.003211</td>\n",
       "      <td>-0.506973</td>\n",
       "      <td>-0.693605</td>\n",
       "      <td>-9.778997</td>\n",
       "      <td>-1.170463</td>\n",
       "      <td>-1.044742</td>\n",
       "    </tr>\n",
       "    <tr>\n",
       "      <th>50%</th>\n",
       "      <td>-0.497093</td>\n",
       "      <td>0.303034</td>\n",
       "      <td>-2.182099</td>\n",
       "      <td>-0.004463</td>\n",
       "      <td>-0.004131</td>\n",
       "      <td>-0.377343</td>\n",
       "      <td>-0.480148</td>\n",
       "      <td>-0.731690</td>\n",
       "      <td>0.111206</td>\n",
       "      <td>0.141714</td>\n",
       "      <td>...</td>\n",
       "      <td>2.060990</td>\n",
       "      <td>0.847772</td>\n",
       "      <td>0.011117</td>\n",
       "      <td>0.055272</td>\n",
       "      <td>0.081120</td>\n",
       "      <td>-0.004048</td>\n",
       "      <td>-0.121978</td>\n",
       "      <td>0.001450</td>\n",
       "      <td>-0.688325</td>\n",
       "      <td>-0.250988</td>\n",
       "    </tr>\n",
       "    <tr>\n",
       "      <th>75%</th>\n",
       "      <td>0.000686</td>\n",
       "      <td>1.077469</td>\n",
       "      <td>-0.458622</td>\n",
       "      <td>0.066768</td>\n",
       "      <td>0.166682</td>\n",
       "      <td>-0.103034</td>\n",
       "      <td>0.000447</td>\n",
       "      <td>-0.124393</td>\n",
       "      <td>0.884531</td>\n",
       "      <td>0.271775</td>\n",
       "      <td>...</td>\n",
       "      <td>6.325341</td>\n",
       "      <td>1.642859</td>\n",
       "      <td>1.241768</td>\n",
       "      <td>0.815443</td>\n",
       "      <td>1.756988</td>\n",
       "      <td>0.278640</td>\n",
       "      <td>0.140996</td>\n",
       "      <td>0.483000</td>\n",
       "      <td>-0.097501</td>\n",
       "      <td>0.900255</td>\n",
       "    </tr>\n",
       "    <tr>\n",
       "      <th>max</th>\n",
       "      <td>0.054347</td>\n",
       "      <td>1.390274</td>\n",
       "      <td>0.000000</td>\n",
       "      <td>0.537046</td>\n",
       "      <td>0.400259</td>\n",
       "      <td>0.000000</td>\n",
       "      <td>0.058541</td>\n",
       "      <td>0.000000</td>\n",
       "      <td>1.184284</td>\n",
       "      <td>0.473172</td>\n",
       "      <td>...</td>\n",
       "      <td>11.796312</td>\n",
       "      <td>2.861938</td>\n",
       "      <td>5.615876</td>\n",
       "      <td>3.115929</td>\n",
       "      <td>3.000306</td>\n",
       "      <td>2.204457</td>\n",
       "      <td>4.116798</td>\n",
       "      <td>2.271048</td>\n",
       "      <td>0.789283</td>\n",
       "      <td>3.094444</td>\n",
       "    </tr>\n",
       "  </tbody>\n",
       "</table>\n",
       "<p>8 rows × 2788 columns</p>\n",
       "</div>"
      ],
      "text/plain": [
       "       boyas14_ts0000  boyas14_ts0001  boyas14_ts0002  boyas14_ts0003  \\\n",
       "count      181.000000      181.000000      181.000000      181.000000   \n",
       "mean        -0.492480        0.507394       -2.011207       -0.054610   \n",
       "std          0.463236        0.501607        1.448863        0.264177   \n",
       "min         -1.203184       -0.219757       -3.897851       -0.808506   \n",
       "25%         -1.009395        0.093586       -3.574881       -0.051238   \n",
       "50%         -0.497093        0.303034       -2.182099       -0.004463   \n",
       "75%          0.000686        1.077469       -0.458622        0.066768   \n",
       "max          0.054347        1.390274        0.000000        0.537046   \n",
       "\n",
       "       boyas14_ts0004  boyas14_ts0005  boyas14_ts0006  boyas14_ts0007  \\\n",
       "count      181.000000      181.000000      181.000000      181.000000   \n",
       "mean         0.030263       -0.373332       -0.504375       -0.856791   \n",
       "std          0.134734        0.251610        0.480279        0.674131   \n",
       "min         -0.189814       -0.762288       -1.184207       -1.852629   \n",
       "25%         -0.055858       -0.589425       -1.009184       -1.510336   \n",
       "50%         -0.004131       -0.377343       -0.480148       -0.731690   \n",
       "75%          0.166682       -0.103034        0.000447       -0.124393   \n",
       "max          0.400259        0.000000        0.058541        0.000000   \n",
       "\n",
       "       boyas14_ts0008  boyas14_ts0009  ...  boyas14_ts2790  boyas14_ts2791  \\\n",
       "count      181.000000      181.000000  ...      181.000000      181.000000   \n",
       "mean        -0.077619        0.152410  ...        3.076605        0.947836   \n",
       "std          1.024499        0.134323  ...        3.906991        0.852627   \n",
       "min         -2.094189       -0.000837  ...       -3.107658        0.000000   \n",
       "25%         -1.092439        0.012968  ...        0.062575        0.061871   \n",
       "50%          0.111206        0.141714  ...        2.060990        0.847772   \n",
       "75%          0.884531        0.271775  ...        6.325341        1.642859   \n",
       "max          1.184284        0.473172  ...       11.796312        2.861938   \n",
       "\n",
       "       boyas14_ts2792  boyas14_ts2793  boyas14_ts2794  boyas14_ts2795  \\\n",
       "count      181.000000      181.000000      181.000000      181.000000   \n",
       "mean         0.463505       -1.480160        0.408618       -0.533419   \n",
       "std          1.756684        3.321676        1.424531        1.838447   \n",
       "min         -3.286161       -8.102111       -2.491845       -4.610311   \n",
       "25%         -0.092177       -5.127423       -0.003211       -0.506973   \n",
       "50%          0.011117        0.055272        0.081120       -0.004048   \n",
       "75%          1.241768        0.815443        1.756988        0.278640   \n",
       "max          5.615876        3.115929        3.000306        2.204457   \n",
       "\n",
       "       boyas14_ts2796  boyas14_ts2797  boyas14_ts2798  boyas14_ts2799  \n",
       "count      181.000000      181.000000      181.000000      181.000000  \n",
       "mean        -0.018418       -3.381489       -0.827312       -0.649918  \n",
       "std          1.246908        5.201241        0.865543        2.092550  \n",
       "min         -2.337385      -12.266755       -2.932384       -5.189206  \n",
       "25%         -0.693605       -9.778997       -1.170463       -1.044742  \n",
       "50%         -0.121978        0.001450       -0.688325       -0.250988  \n",
       "75%          0.140996        0.483000       -0.097501        0.900255  \n",
       "max          4.116798        2.271048        0.789283        3.094444  \n",
       "\n",
       "[8 rows x 2788 columns]"
      ]
     },
     "execution_count": 11,
     "metadata": {},
     "output_type": "execute_result"
    }
   ],
   "source": [
    "df_x.describe()"
   ]
  },
  {
   "cell_type": "code",
   "execution_count": 12,
   "metadata": {},
   "outputs": [],
   "source": [
    "df_x = df_x.resample('10S', on='Datetime').mean()\n",
    "df_y = df_y.resample('10S', on='Datetime').mean()"
   ]
  },
  {
   "cell_type": "code",
   "execution_count": 13,
   "metadata": {},
   "outputs": [
    {
     "data": {
      "text/plain": [
       "Text(0, 0.5, 'Altura de ola [m]')"
      ]
     },
     "execution_count": 13,
     "metadata": {},
     "output_type": "execute_result"
    },
    {
     "data": {
      "image/png": "[encoded data removed]",
      "text/plain": [
       "<Figure size 1680x720 with 2 Axes>"
      ]
     },
     "metadata": {
      "needs_background": "light"
     },
     "output_type": "display_data"
    }
   ],
   "source": [
    "plt.figure(figsize=(14,6), dpi=120)\n",
    "\n",
    "plt.ion()\n",
    "plt.rc('xtick', labelsize=13) \n",
    "plt.rc('ytick', labelsize=13)\n",
    "plt.title('Altura boya 14 y 79 Viña, ts035 8.6 Mw',fontsize=17)\n",
    "plt.xlabel('Time',fontsize=17)\n",
    "plt.ylabel('Altura de inundación [m]',fontsize=17)\n",
    "plt.plot(df_y['boyas'+str(boya_y)+'_ts0126'], color='m', linewidth=1.0)\n",
    "plt.ylim(-5,25)\n",
    "plt.twinx()\n",
    "plt.plot(df_x['boyas'+str(boya_x)+'_ts0126'], color='#1C7C54', linewidth=1.0)\n",
    "plt.ylim(-10,10)\n",
    "ax = plt.gca()\n",
    "#ax.invert_yaxis()\n",
    "plt.ylabel('Altura de ola [m]',fontsize=17)"
   ]
  },
  {
   "cell_type": "code",
   "execution_count": 14,
   "metadata": {},
   "outputs": [],
   "source": [
    "df_x = df_x.resample('T').max()\n",
    "df_y = df_y.resample('T').max()"
   ]
  },
  {
   "cell_type": "code",
   "execution_count": 15,
   "metadata": {},
   "outputs": [
    {
     "data": {
      "text/plain": [
       "Text(0, 0.5, 'Altura de ola [m]')"
      ]
     },
     "execution_count": 15,
     "metadata": {},
     "output_type": "execute_result"
    },
    {
     "data": {
      "image/png": "[encoded data removed]",
      "text/plain": [
       "<Figure size 1680x720 with 2 Axes>"
      ]
     },
     "metadata": {
      "needs_background": "light"
     },
     "output_type": "display_data"
    }
   ],
   "source": [
    "plt.figure(figsize=(14,6), dpi=120)\n",
    "\n",
    "plt.ion()\n",
    "plt.rc('xtick', labelsize=13) \n",
    "plt.rc('ytick', labelsize=13)\n",
    "plt.title('Altura boya 14 y 79 Viña, ts035 8.6 Mw',fontsize=17)\n",
    "plt.xlabel('Time',fontsize=17)\n",
    "plt.ylabel('Altura de inundación [m]',fontsize=17)\n",
    "plt.plot(df_y['boyas'+str(boya_y)+'_ts0126'], color='m', linewidth=1.0)\n",
    "plt.ylim(-5,25)\n",
    "plt.twinx()\n",
    "plt.plot(df_x['boyas'+str(boya_x)+'_ts0126'], color='#1C7C54', linewidth=1.0)\n",
    "plt.ylim(-10,10)\n",
    "ax = plt.gca()\n",
    "#ax.invert_yaxis()\n",
    "plt.ylabel('Altura de ola [m]',fontsize=17)"
   ]
  },
  {
   "cell_type": "code",
   "execution_count": 16,
   "metadata": {},
   "outputs": [
    {
     "name": "stdout",
     "output_type": "stream",
     "text": [
      "Escenarios que inundan 716\n",
      "Escenarios que no inundan 2072\n"
     ]
    }
   ],
   "source": [
    "print('Escenarios que inundan',len(Inu))\n",
    "print('Escenarios que no inundan',len(NoInu))"
   ]
  },
  {
   "cell_type": "code",
   "execution_count": 17,
   "metadata": {},
   "outputs": [],
   "source": [
    "df_x = df_x.values.astype('float32')\n",
    "df_y = df_y.values.astype('float32')"
   ]
  },
  {
   "cell_type": "code",
   "execution_count": 18,
   "metadata": {},
   "outputs": [],
   "source": [
    "#data_pre_train, data_pre_temp = train_test_split(data, test_size= 0.5)\n",
    "#data_pre_val, data_pre_test = train_test_split(data_pre_temp, test_size= 0.4)\n",
    "\n",
    "#scaler = StandardScaler().fit(df)\n",
    "#df= scaler.transform(df)\n",
    "#df= pd.DataFrame(scaler.transform(df),\n",
    " #                                columns=df.columns)\n"
   ]
  },
  {
   "cell_type": "code",
   "execution_count": 19,
   "metadata": {},
   "outputs": [],
   "source": [
    "#xtest = df.pop('boyas14_ts035') # asigna y quita columna\n",
    "#ytest = df.pop('boyas101_000126') # asigna y quita columna"
   ]
  },
  {
   "cell_type": "code",
   "execution_count": 20,
   "metadata": {},
   "outputs": [],
   "source": [
    "#df = df.values.astype('float32')\n",
    "#xtest = xtest.values.astype('float32')\n",
    "#ytest = ytest.values.astype('float32')"
   ]
  },
  {
   "cell_type": "code",
   "execution_count": 21,
   "metadata": {},
   "outputs": [],
   "source": [
    "# genera secuencias de entrada y salida\n",
    "def split_sequence(df):\n",
    "    X = list()\n",
    "    for time in range(0,df.shape[1],1):\n",
    "        # se suma uno porque no considera el ultimo\n",
    "        seq_x = df[:,time]\n",
    "        X.append(seq_x)\n",
    "        \n",
    "    return np.array(X)\n"
   ]
  },
  {
   "cell_type": "code",
   "execution_count": 22,
   "metadata": {},
   "outputs": [],
   "source": [
    "trainX = split_sequence(df_x)\n",
    "trainY = split_sequence(df_y)\n",
    "#testX,testY = xtest,ytest"
   ]
  },
  {
   "cell_type": "code",
   "execution_count": 23,
   "metadata": {},
   "outputs": [
    {
     "data": {
      "text/plain": [
       "(2788, 31)"
      ]
     },
     "execution_count": 23,
     "metadata": {},
     "output_type": "execute_result"
    }
   ],
   "source": [
    "trainY.shape"
   ]
  },
  {
   "cell_type": "code",
   "execution_count": 24,
   "metadata": {},
   "outputs": [
    {
     "name": "stdout",
     "output_type": "stream",
     "text": [
      "n_steps : 31\n"
     ]
    }
   ],
   "source": [
    "n_features = 1\n",
    "n_steps = trainX.shape[1]\n",
    "print('n_steps :',n_steps)"
   ]
  },
  {
   "cell_type": "code",
   "execution_count": 25,
   "metadata": {},
   "outputs": [],
   "source": [
    "trainX = trainX.reshape((trainX.shape[0], trainX.shape[1], n_features))\n"
   ]
  },
  {
   "cell_type": "code",
   "execution_count": 26,
   "metadata": {},
   "outputs": [
    {
     "data": {
      "text/plain": [
       "(2788, 31, 1)"
      ]
     },
     "execution_count": 26,
     "metadata": {},
     "output_type": "execute_result"
    }
   ],
   "source": [
    "trainX.shape"
   ]
  },
  {
   "cell_type": "code",
   "execution_count": 27,
   "metadata": {},
   "outputs": [
    {
     "data": {
      "text/plain": [
       "(2788, 31)"
      ]
     },
     "execution_count": 27,
     "metadata": {},
     "output_type": "execute_result"
    }
   ],
   "source": [
    "trainY.shape"
   ]
  },
  {
   "cell_type": "markdown",
   "metadata": {},
   "source": [
    "**comentario :** Etiquetas para diferencias las escenarios que **Si inundan** y los que **No indundan**, debido a lo desbalanceada que esta la data aproximadamente solo el 18% de los escenarios inundan. "
   ]
  },
  {
   "cell_type": "markdown",
   "metadata": {},
   "source": [
    "## Train-Validation-Test.\n",
    "Separar datos de forma balanceda."
   ]
  },
  {
   "cell_type": "code",
   "execution_count": 28,
   "metadata": {},
   "outputs": [],
   "source": [
    "from sklearn.model_selection import train_test_split\n",
    "SiInu_id = []\n",
    "NoInu_id = []\n",
    "cont = -1\n",
    "for i in groups:\n",
    "    cont+=1\n",
    "    if i ==0:\n",
    "        NoInu_id.append(cont)\n",
    "        \n",
    "    if i ==1:\n",
    "        SiInu_id.append(cont)\n",
    "\n",
    "y_train, y_val = train_test_split(SiInu_id, test_size=0.3, random_state=42)\n",
    "x_train, x_val = train_test_split(NoInu_id, test_size=0.3, random_state=42)\n",
    "\n",
    "y_val, y_test = train_test_split(y_val, test_size=0.33, random_state=42)\n",
    "x_val, x_test = train_test_split(x_val, test_size=0.33, random_state=42)\n",
    "\n",
    "x_train+=y_train\n",
    "x_val+=y_val\n",
    "x_test+=y_test\n",
    "\n",
    "np.random.shuffle(x_train) # indices de train balanceados y desordenados\n",
    "np.random.shuffle(x_val) # indices de validation balanceados y desordenados\n",
    "np.random.shuffle(x_test) # indices de validation balanceados y desordenados"
   ]
  },
  {
   "cell_type": "code",
   "execution_count": 29,
   "metadata": {},
   "outputs": [],
   "source": [
    "total = len(groups)\n"
   ]
  },
  {
   "cell_type": "code",
   "execution_count": 30,
   "metadata": {},
   "outputs": [
    {
     "name": "stdout",
     "output_type": "stream",
     "text": [
      "% Datos de train:  0.6997847919655668\n",
      "% Datos de validation:  0.20086083213773315\n",
      "% Datos de test:  0.09935437589670014\n"
     ]
    }
   ],
   "source": [
    "print('% Datos de train: ',len(x_train)/total)\n",
    "print('% Datos de validation: ',len(x_val)/total)\n",
    "print('% Datos de test: ',len(x_test)/total)"
   ]
  },
  {
   "cell_type": "markdown",
   "metadata": {},
   "source": [
    "## CNN 1-D."
   ]
  },
  {
   "cell_type": "code",
   "execution_count": 31,
   "metadata": {},
   "outputs": [],
   "source": [
    "\n",
    "es = EarlyStopping(monitor='val_loss', mode='min', verbose=1,patience=10)"
   ]
  },
  {
   "cell_type": "code",
   "execution_count": 32,
   "metadata": {},
   "outputs": [],
   "source": [
    "filtros = [256,128]\n",
    "kernel = [9]\n",
    "activations = ['relu','tanh']\n",
    "lrr = [0.001,0.0001]\n",
    "batch = [8,12,16,18,20]\n",
    "dropoutt = [0.1,0.2,0.3]"
   ]
  },
  {
   "cell_type": "code",
   "execution_count": 33,
   "metadata": {},
   "outputs": [
    {
     "name": "stdout",
     "output_type": "stream",
     "text": [
      "tamaño filtro 256\n",
      "9\n",
      "relu\n",
      "0.001\n",
      "8\n",
      "0.1\n",
      "WARNING:tensorflow:From /home/jorge/anaconda3/envs/machinelearning/lib/python3.7/site-packages/keras/backend/tensorflow_backend.py:4070: The name tf.nn.max_pool is deprecated. Please use tf.nn.max_pool2d instead.\n",
      "\n",
      "WARNING:tensorflow:From /home/jorge/anaconda3/envs/machinelearning/lib/python3.7/site-packages/keras/backend/tensorflow_backend.py:422: The name tf.global_variables is deprecated. Please use tf.compat.v1.global_variables instead.\n",
      "\n",
      "Epoch 00058: early stopping\n",
      "time execution 2.681616449356079\n",
      "Error val 0.011454667076889434\n",
      "0.2\n",
      "Epoch 00032: early stopping\n",
      "time execution 1.5662262916564942\n",
      "Error val 0.023400519934641904\n",
      "0.3\n",
      "Epoch 00054: early stopping\n",
      "time execution 2.7092031518618267\n",
      "Error val 0.01272084933352744\n",
      "12\n",
      "0.1\n",
      "Epoch 00055: early stopping\n",
      "time execution 2.026841123898824\n",
      "Error val 0.010621865947385751\n",
      "0.2\n",
      "Epoch 00048: early stopping\n",
      "time execution 1.8478528261184692\n",
      "Error val 0.01759649200705878\n",
      "0.3\n"
     ]
    },
    {
     "ename": "KeyboardInterrupt",
     "evalue": "",
     "output_type": "error",
     "traceback": [
      "\u001b[0;31m---------------------------------------------------------------------------\u001b[0m",
      "\u001b[0;31mKeyboardInterrupt\u001b[0m                         Traceback (most recent call last)",
      "\u001b[0;32m<ipython-input-33-c7b2a0efd7a0>\u001b[0m in \u001b[0;36m<module>\u001b[0;34m\u001b[0m\n\u001b[1;32m     70\u001b[0m                         \u001b[0;31m#print('test',val)\u001b[0m\u001b[0;34m\u001b[0m\u001b[0;34m\u001b[0m\u001b[0m\n\u001b[1;32m     71\u001b[0m                         history = model.fit(Xm[train], ym[train],validation_data=(Xm[val], ym[val]), epochs=epoch,\n\u001b[0;32m---> 72\u001b[0;31m                                                 batch_size=b, verbose=0,callbacks=[es])\n\u001b[0m\u001b[1;32m     73\u001b[0m                             \u001b[0;31m#break\u001b[0m\u001b[0;34m\u001b[0m\u001b[0;34m\u001b[0m\u001b[0m\n\u001b[1;32m     74\u001b[0m                         \u001b[0mend\u001b[0m \u001b[0;34m=\u001b[0m \u001b[0mtime\u001b[0m\u001b[0;34m.\u001b[0m\u001b[0mtime\u001b[0m\u001b[0;34m(\u001b[0m\u001b[0;34m)\u001b[0m\u001b[0;34m\u001b[0m\u001b[0m\n",
      "\u001b[0;32m~/anaconda3/envs/machinelearning/lib/python3.7/site-packages/keras/engine/training.py\u001b[0m in \u001b[0;36mfit\u001b[0;34m(self, x, y, batch_size, epochs, verbose, callbacks, validation_split, validation_data, shuffle, class_weight, sample_weight, initial_epoch, steps_per_epoch, validation_steps, validation_freq, max_queue_size, workers, use_multiprocessing, **kwargs)\u001b[0m\n\u001b[1;32m   1237\u001b[0m                                         \u001b[0msteps_per_epoch\u001b[0m\u001b[0;34m=\u001b[0m\u001b[0msteps_per_epoch\u001b[0m\u001b[0;34m,\u001b[0m\u001b[0;34m\u001b[0m\u001b[0m\n\u001b[1;32m   1238\u001b[0m                                         \u001b[0mvalidation_steps\u001b[0m\u001b[0;34m=\u001b[0m\u001b[0mvalidation_steps\u001b[0m\u001b[0;34m,\u001b[0m\u001b[0;34m\u001b[0m\u001b[0m\n\u001b[0;32m-> 1239\u001b[0;31m                                         validation_freq=validation_freq)\n\u001b[0m\u001b[1;32m   1240\u001b[0m \u001b[0;34m\u001b[0m\u001b[0m\n\u001b[1;32m   1241\u001b[0m     def evaluate(self,\n",
      "\u001b[0;32m~/anaconda3/envs/machinelearning/lib/python3.7/site-packages/keras/engine/training_arrays.py\u001b[0m in \u001b[0;36mfit_loop\u001b[0;34m(model, fit_function, fit_inputs, out_labels, batch_size, epochs, verbose, callbacks, val_function, val_inputs, shuffle, initial_epoch, steps_per_epoch, validation_steps, validation_freq)\u001b[0m\n\u001b[1;32m    194\u001b[0m                     \u001b[0mins_batch\u001b[0m\u001b[0;34m[\u001b[0m\u001b[0mi\u001b[0m\u001b[0;34m]\u001b[0m \u001b[0;34m=\u001b[0m \u001b[0mins_batch\u001b[0m\u001b[0;34m[\u001b[0m\u001b[0mi\u001b[0m\u001b[0;34m]\u001b[0m\u001b[0;34m.\u001b[0m\u001b[0mtoarray\u001b[0m\u001b[0;34m(\u001b[0m\u001b[0;34m)\u001b[0m\u001b[0;34m\u001b[0m\u001b[0m\n\u001b[1;32m    195\u001b[0m \u001b[0;34m\u001b[0m\u001b[0m\n\u001b[0;32m--> 196\u001b[0;31m                 \u001b[0mouts\u001b[0m \u001b[0;34m=\u001b[0m \u001b[0mfit_function\u001b[0m\u001b[0;34m(\u001b[0m\u001b[0mins_batch\u001b[0m\u001b[0;34m)\u001b[0m\u001b[0;34m\u001b[0m\u001b[0m\n\u001b[0m\u001b[1;32m    197\u001b[0m                 \u001b[0mouts\u001b[0m \u001b[0;34m=\u001b[0m \u001b[0mto_list\u001b[0m\u001b[0;34m(\u001b[0m\u001b[0mouts\u001b[0m\u001b[0;34m)\u001b[0m\u001b[0;34m\u001b[0m\u001b[0m\n\u001b[1;32m    198\u001b[0m                 \u001b[0;32mfor\u001b[0m \u001b[0ml\u001b[0m\u001b[0;34m,\u001b[0m \u001b[0mo\u001b[0m \u001b[0;32min\u001b[0m \u001b[0mzip\u001b[0m\u001b[0;34m(\u001b[0m\u001b[0mout_labels\u001b[0m\u001b[0;34m,\u001b[0m \u001b[0mouts\u001b[0m\u001b[0;34m)\u001b[0m\u001b[0;34m:\u001b[0m\u001b[0;34m\u001b[0m\u001b[0m\n",
      "\u001b[0;32m~/anaconda3/envs/machinelearning/lib/python3.7/site-packages/tensorflow/python/keras/backend.py\u001b[0m in \u001b[0;36m__call__\u001b[0;34m(self, inputs)\u001b[0m\n\u001b[1;32m   3290\u001b[0m \u001b[0;34m\u001b[0m\u001b[0m\n\u001b[1;32m   3291\u001b[0m     fetched = self._callable_fn(*array_vals,\n\u001b[0;32m-> 3292\u001b[0;31m                                 run_metadata=self.run_metadata)\n\u001b[0m\u001b[1;32m   3293\u001b[0m     \u001b[0mself\u001b[0m\u001b[0;34m.\u001b[0m\u001b[0m_call_fetch_callbacks\u001b[0m\u001b[0;34m(\u001b[0m\u001b[0mfetched\u001b[0m\u001b[0;34m[\u001b[0m\u001b[0;34m-\u001b[0m\u001b[0mlen\u001b[0m\u001b[0;34m(\u001b[0m\u001b[0mself\u001b[0m\u001b[0;34m.\u001b[0m\u001b[0m_fetches\u001b[0m\u001b[0;34m)\u001b[0m\u001b[0;34m:\u001b[0m\u001b[0;34m]\u001b[0m\u001b[0;34m)\u001b[0m\u001b[0;34m\u001b[0m\u001b[0m\n\u001b[1;32m   3294\u001b[0m     output_structure = nest.pack_sequence_as(\n",
      "\u001b[0;32m~/anaconda3/envs/machinelearning/lib/python3.7/site-packages/tensorflow/python/client/session.py\u001b[0m in \u001b[0;36m__call__\u001b[0;34m(self, *args, **kwargs)\u001b[0m\n\u001b[1;32m   1456\u001b[0m         ret = tf_session.TF_SessionRunCallable(self._session._session,\n\u001b[1;32m   1457\u001b[0m                                                \u001b[0mself\u001b[0m\u001b[0;34m.\u001b[0m\u001b[0m_handle\u001b[0m\u001b[0;34m,\u001b[0m \u001b[0margs\u001b[0m\u001b[0;34m,\u001b[0m\u001b[0;34m\u001b[0m\u001b[0m\n\u001b[0;32m-> 1458\u001b[0;31m                                                run_metadata_ptr)\n\u001b[0m\u001b[1;32m   1459\u001b[0m         \u001b[0;32mif\u001b[0m \u001b[0mrun_metadata\u001b[0m\u001b[0;34m:\u001b[0m\u001b[0;34m\u001b[0m\u001b[0m\n\u001b[1;32m   1460\u001b[0m           \u001b[0mproto_data\u001b[0m \u001b[0;34m=\u001b[0m \u001b[0mtf_session\u001b[0m\u001b[0;34m.\u001b[0m\u001b[0mTF_GetBuffer\u001b[0m\u001b[0;34m(\u001b[0m\u001b[0mrun_metadata_ptr\u001b[0m\u001b[0;34m)\u001b[0m\u001b[0;34m\u001b[0m\u001b[0m\n",
      "\u001b[0;31mKeyboardInterrupt\u001b[0m: "
     ]
    }
   ],
   "source": [
    "import time\n",
    "Best_model = {}\n",
    "Error = 1000\n",
    "Error_val = []\n",
    "start2 = time.time()\n",
    "for f in filtros:\n",
    "    print('tamaño filtro',f)\n",
    "    for k in kernel:\n",
    "        print(k)\n",
    "        for act in activations:\n",
    "            print(act)\n",
    "            for l in lrr:\n",
    "                print(l)\n",
    "                for b in batch:\n",
    "                    print(b)\n",
    "                    for d in dropoutt:\n",
    "                        \n",
    "                        print(d)\n",
    "\n",
    "\n",
    "                        epoch = 1000\n",
    "                        Xm = trainX\n",
    "                        ym = trainY\n",
    "                        #skf = StratifiedKFold(n_splits=2,shuffle=True)#,random_state=42)\n",
    "                        #skf.get_n_splits(Xm, groups)\n",
    "\n",
    "\n",
    "                        hist = History()\n",
    "                        model = Sequential()\n",
    "                        model.add(Conv1D(filters=f, kernel_size=k,#kernel_initializer=initializer, bias_initializer=bias_ini,\n",
    "                                         activation='relu', input_shape=(n_steps, n_features)))\n",
    "                        model.add(Conv1D(filters=int(f/2), kernel_size=int(k-3),#kernel_initializer=initializer,bias_initializer=bias_ini,\n",
    "                                 activation='relu'))\n",
    "\n",
    "                        model.add(Conv1D(filters=int(f/4), kernel_size=int(k-6),#kernel_initializer=initializer,bias_initializer=bias_ini,\n",
    "                                 activation='relu'))\n",
    "\n",
    "                        #model.add(Conv1D(filters=8, kernel_size=3,#kernel_initializer=initializer,bias_initializer=bias_ini,\n",
    "                         #        activation='relu'))\n",
    "\n",
    "                        model.add(BatchNormalization())\n",
    "\n",
    "                        model.add(MaxPooling1D(pool_size=2))\n",
    "\n",
    "                        model.add(Flatten())\n",
    "\n",
    "                        model.add(Dense(90,#kernel_initializer=initializer,bias_initializer=bias_ini, \n",
    "                                        activation=act))\n",
    "\n",
    "                        model.add(Dropout(d, seed = seed))\n",
    "\n",
    "                        model.add(Dense(60,#kernel_initializer=initializer,bias_initializer=bias_ini, \n",
    "                                        activation=act))\n",
    "\n",
    "                        model.add(Dropout(0.1, seed = seed))\n",
    "\n",
    "                        model.add(Dense(n_steps,#kernel_initializer=initializer,bias_initializer=bias_ini, \n",
    "                                        activation='relu'))\n",
    "                        #\n",
    "                        model.compile(optimizer=Adam(lr=l), loss='mse')\n",
    "\n",
    "\n",
    "\n",
    "                        start = time.time()\n",
    "                        #for train, test in gss.split(Xm, ym, groups): #tscv.split(Xm):\n",
    "\n",
    "                        train = x_train\n",
    "                        val = x_val\n",
    "                        #print('train',train)\n",
    "                        #print('test',val)\n",
    "                        history = model.fit(Xm[train], ym[train],validation_data=(Xm[val], ym[val]), epochs=epoch,\n",
    "                                                batch_size=b, verbose=0,callbacks=[es])\n",
    "                            #break\n",
    "                        end = time.time()\n",
    "\n",
    "                        print('time execution',(end - start)/60)\n",
    "                        error_val = min(history.history['val_loss'])\n",
    "                        Error_val.append(error_val)\n",
    "                        print('Error val',error_val)\n",
    "                        if error_val < Error:\n",
    "                            Error = error_val\n",
    "                            Best_model['filtros'] = f\n",
    "                            Best_model['kernel'] = k\n",
    "                            Best_model['activation'] = act\n",
    "                            Best_model['learning'] = l\n",
    "                            Best_model['batch_size'] = b\n",
    "                            Best_model['Error val'] = Error\n",
    "                            Best_model['drop_out'] = d\n",
    "\n",
    "end2 = time.time()                        \n",
    "print('time execution grid search',(end2 - start2)/60)                        "
   ]
  },
  {
   "cell_type": "code",
   "execution_count": null,
   "metadata": {},
   "outputs": [],
   "source": [
    "Best_model"
   ]
  },
  {
   "cell_type": "markdown",
   "metadata": {},
   "source": [
    "**Comentario : Mejor función de activación ReLu, Sigmoide y linear 3 veces mayor error.**"
   ]
  },
  {
   "cell_type": "code",
   "execution_count": null,
   "metadata": {},
   "outputs": [],
   "source": [
    "min(history.history['val_loss'])"
   ]
  },
  {
   "cell_type": "code",
   "execution_count": null,
   "metadata": {},
   "outputs": [],
   "source": [
    "import matplotlib.pyplot as plt\n",
    "a=np.linspace(1,epoch,epoch)\n",
    "plt.figure(figsize=(24,4), dpi=100)\n",
    "plt.rc('xtick', labelsize=14) \n",
    "plt.rc('ytick', labelsize=14) \n",
    "plt.subplot(1,2,1)\n",
    "plt.plot(history.history['val_loss'],'r.',label = 'Validation')\n",
    "plt.plot(history.history['loss'],'g.',label = 'Train')\n",
    "plt.xlabel('Epochs',fontsize=15)\n",
    "plt.ylabel('MSE',fontsize=15)\n",
    "plt.legend(loc='upper right')"
   ]
  },
  {
   "cell_type": "markdown",
   "metadata": {},
   "source": [
    "## Datos de test."
   ]
  },
  {
   "cell_type": "code",
   "execution_count": null,
   "metadata": {},
   "outputs": [],
   "source": [
    "Xm = trainX\n",
    "ym = trainY\n",
    "test = x_test\n",
    "Xtest = Xm[test]\n",
    "ytest = ym[test]"
   ]
  },
  {
   "cell_type": "code",
   "execution_count": null,
   "metadata": {},
   "outputs": [],
   "source": [
    "Xtest.shape[0]"
   ]
  },
  {
   "cell_type": "code",
   "execution_count": null,
   "metadata": {},
   "outputs": [],
   "source": [
    "plt.figure(figsize=(18,8), dpi=100)\n",
    "\n",
    "for i in range(int(Xtest.shape[0]/4)) :\n",
    "    #plt.figure(figsize=(18,8), dpi=100)\n",
    "    x_test=Xtest[i].reshape((1,n_steps,1))\n",
    "    testPredict = (model.predict(x_test)).reshape(-1,1)\n",
    "    plt.plot(ytest[i],label = 'real')\n",
    "    plt.plot(testPredict,'--', label = 'simulado')\n",
    "    #plt.plot(testY,label = 'real test')\n",
    "    #plt.plot(testPredict, label = 'simulado test')\n",
    "    plt.rc('xtick', labelsize=17) \n",
    "    plt.rc('ytick', labelsize=17)\n",
    "    plt.title('Altura de inundación Viña boya 120',fontsize=17)\n",
    "    plt.ylabel('Altura [m]',fontsize=17)\n",
    "    plt.xlabel('Tiempo [min]',fontsize=17)\n",
    "    plt.legend(loc='upper left',fontsize=13)\n",
    "    #testX=testX.reshape((1,n_steps,1))"
   ]
  },
  {
   "cell_type": "markdown",
   "metadata": {},
   "source": [
    "- buscar metrica que penalice mas el error de los maximos.\n",
    "- buscar split que realice una separacion mas balanceada.\n",
    "- probar modelo convolucional 1D. con atencion.\n",
    "- transfer learning con autoencoder.\n",
    "- capa attention en lstm"
   ]
  },
  {
   "cell_type": "code",
   "execution_count": null,
   "metadata": {},
   "outputs": [],
   "source": [
    "len(x_test)"
   ]
  },
  {
   "cell_type": "code",
   "execution_count": null,
   "metadata": {},
   "outputs": [],
   "source": []
  }
 ],
 "metadata": {
  "kernelspec": {
   "display_name": "Python 3",
   "language": "python",
   "name": "python3"
  },
  "language_info": {
   "codemirror_mode": {
    "name": "ipython",
    "version": 3
   },
   "file_extension": ".py",
   "mimetype": "text/x-python",
   "name": "python",
   "nbconvert_exporter": "python",
   "pygments_lexer": "ipython3",
   "version": "3.7.0"
  }
 },
 "nbformat": 4,
 "nbformat_minor": 4
}
