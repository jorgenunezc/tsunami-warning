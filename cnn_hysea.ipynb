{
 "cells": [
  {
   "cell_type": "code",
   "execution_count": 1,
   "metadata": {},
   "outputs": [],
   "source": [
    "import os\n",
    "os.environ[\"CUDA_DEVICE_ORDER\"] = \"PCI_BUS_ID\"\n",
    "os.environ[\"CUDA_VISIBLE_DEVICES\"] = \"\""
   ]
  },
  {
   "cell_type": "code",
   "execution_count": 2,
   "metadata": {},
   "outputs": [
    {
     "name": "stderr",
     "output_type": "stream",
     "text": [
      "/home/jorge/anaconda3/envs/machinelearning/lib/python3.7/site-packages/tensorflow/python/framework/dtypes.py:516: FutureWarning: Passing (type, 1) or '1type' as a synonym of type is deprecated; in a future version of numpy, it will be understood as (type, (1,)) / '(1,)type'.\n",
      "  _np_qint8 = np.dtype([(\"qint8\", np.int8, 1)])\n",
      "/home/jorge/anaconda3/envs/machinelearning/lib/python3.7/site-packages/tensorflow/python/framework/dtypes.py:517: FutureWarning: Passing (type, 1) or '1type' as a synonym of type is deprecated; in a future version of numpy, it will be understood as (type, (1,)) / '(1,)type'.\n",
      "  _np_quint8 = np.dtype([(\"quint8\", np.uint8, 1)])\n",
      "/home/jorge/anaconda3/envs/machinelearning/lib/python3.7/site-packages/tensorflow/python/framework/dtypes.py:518: FutureWarning: Passing (type, 1) or '1type' as a synonym of type is deprecated; in a future version of numpy, it will be understood as (type, (1,)) / '(1,)type'.\n",
      "  _np_qint16 = np.dtype([(\"qint16\", np.int16, 1)])\n",
      "/home/jorge/anaconda3/envs/machinelearning/lib/python3.7/site-packages/tensorflow/python/framework/dtypes.py:519: FutureWarning: Passing (type, 1) or '1type' as a synonym of type is deprecated; in a future version of numpy, it will be understood as (type, (1,)) / '(1,)type'.\n",
      "  _np_quint16 = np.dtype([(\"quint16\", np.uint16, 1)])\n",
      "/home/jorge/anaconda3/envs/machinelearning/lib/python3.7/site-packages/tensorflow/python/framework/dtypes.py:520: FutureWarning: Passing (type, 1) or '1type' as a synonym of type is deprecated; in a future version of numpy, it will be understood as (type, (1,)) / '(1,)type'.\n",
      "  _np_qint32 = np.dtype([(\"qint32\", np.int32, 1)])\n",
      "/home/jorge/anaconda3/envs/machinelearning/lib/python3.7/site-packages/tensorflow/python/framework/dtypes.py:525: FutureWarning: Passing (type, 1) or '1type' as a synonym of type is deprecated; in a future version of numpy, it will be understood as (type, (1,)) / '(1,)type'.\n",
      "  np_resource = np.dtype([(\"resource\", np.ubyte, 1)])\n",
      "/home/jorge/anaconda3/envs/machinelearning/lib/python3.7/site-packages/tensorboard/compat/tensorflow_stub/dtypes.py:541: FutureWarning: Passing (type, 1) or '1type' as a synonym of type is deprecated; in a future version of numpy, it will be understood as (type, (1,)) / '(1,)type'.\n",
      "  _np_qint8 = np.dtype([(\"qint8\", np.int8, 1)])\n",
      "/home/jorge/anaconda3/envs/machinelearning/lib/python3.7/site-packages/tensorboard/compat/tensorflow_stub/dtypes.py:542: FutureWarning: Passing (type, 1) or '1type' as a synonym of type is deprecated; in a future version of numpy, it will be understood as (type, (1,)) / '(1,)type'.\n",
      "  _np_quint8 = np.dtype([(\"quint8\", np.uint8, 1)])\n",
      "/home/jorge/anaconda3/envs/machinelearning/lib/python3.7/site-packages/tensorboard/compat/tensorflow_stub/dtypes.py:543: FutureWarning: Passing (type, 1) or '1type' as a synonym of type is deprecated; in a future version of numpy, it will be understood as (type, (1,)) / '(1,)type'.\n",
      "  _np_qint16 = np.dtype([(\"qint16\", np.int16, 1)])\n",
      "/home/jorge/anaconda3/envs/machinelearning/lib/python3.7/site-packages/tensorboard/compat/tensorflow_stub/dtypes.py:544: FutureWarning: Passing (type, 1) or '1type' as a synonym of type is deprecated; in a future version of numpy, it will be understood as (type, (1,)) / '(1,)type'.\n",
      "  _np_quint16 = np.dtype([(\"quint16\", np.uint16, 1)])\n",
      "/home/jorge/anaconda3/envs/machinelearning/lib/python3.7/site-packages/tensorboard/compat/tensorflow_stub/dtypes.py:545: FutureWarning: Passing (type, 1) or '1type' as a synonym of type is deprecated; in a future version of numpy, it will be understood as (type, (1,)) / '(1,)type'.\n",
      "  _np_qint32 = np.dtype([(\"qint32\", np.int32, 1)])\n",
      "/home/jorge/anaconda3/envs/machinelearning/lib/python3.7/site-packages/tensorboard/compat/tensorflow_stub/dtypes.py:550: FutureWarning: Passing (type, 1) or '1type' as a synonym of type is deprecated; in a future version of numpy, it will be understood as (type, (1,)) / '(1,)type'.\n",
      "  np_resource = np.dtype([(\"resource\", np.ubyte, 1)])\n",
      "Using TensorFlow backend.\n"
     ]
    }
   ],
   "source": [
    "import tensorflow as tf\n",
    "import numpy as np\n",
    "import random as rn\n",
    "\n",
    "seed = 0 # Here sd means seed.\n",
    "np.random.seed(seed)\n",
    "rn.seed(seed)\n",
    "os.environ['PYTHONHASHSEED']=str(seed)\n",
    "\n",
    "from keras import backend as K\n",
    "config = tf.ConfigProto(intra_op_parallelism_threads=1,inter_op_parallelism_threads=1)\n",
    "tf.set_random_seed(seed)\n",
    "sess = tf.Session(graph=tf.get_default_graph(), config=config)\n",
    "K.set_session(sess)"
   ]
  },
  {
   "cell_type": "code",
   "execution_count": 3,
   "metadata": {},
   "outputs": [],
   "source": [
    "import os\n",
    "import numpy as np\n",
    "import matplotlib.pyplot as plt\n",
    "import pandas as pd\n",
    "import math\n",
    "from keras.models import Sequential\n",
    "from keras.layers import Dense\n",
    "from keras.layers import LSTM\n",
    "from keras.layers import Flatten\n",
    "from keras.layers.convolutional import Conv1D\n",
    "from keras.layers.convolutional import MaxPooling1D\n",
    "from keras.layers import TimeDistributed\n",
    "from tensorflow.keras import initializers\n",
    "\n",
    " \n",
    "\n",
    "#from tensorflow.keras.layers import Attention\n",
    "#from attention_decoder import AttentionDecoder\n",
    "from sklearn.preprocessing import MinMaxScaler\n",
    "from sklearn.metrics import mean_squared_error as MSE\n",
    "from sklearn.metrics import mean_absolute_error as MAE\n",
    "from sklearn.metrics import max_error\n",
    "import seaborn as sns\n",
    "from keras.callbacks import History \n",
    "from sklearn.model_selection import KFold \n",
    "from keras.layers import Dropout\n",
    "from keras.optimizers import Adam\n",
    "from keras.layers import Bidirectional\n",
    "from sklearn.preprocessing import StandardScaler\n",
    "from sklearn.model_selection import StratifiedKFold"
   ]
  },
  {
   "cell_type": "code",
   "execution_count": 4,
   "metadata": {},
   "outputs": [
    {
     "name": "stdout",
     "output_type": "stream",
     "text": [
      "/home/jorge/tsunami-warning/dataset/ts_jorge_MW8.6/\n"
     ]
    }
   ],
   "source": [
    "path = os.getcwd()\n",
    "folder = path+\"/dataset/ts_jorge_MW8.6/\"\n",
    "print(folder)"
   ]
  },
  {
   "cell_type": "code",
   "execution_count": 5,
   "metadata": {},
   "outputs": [],
   "source": [
    "df = pd.read_json(folder+'DataFrame_boyas14_80viña.json') # cargar dataframe"
   ]
  },
  {
   "cell_type": "code",
   "execution_count": 6,
   "metadata": {},
   "outputs": [],
   "source": [
    "index = pd.date_range('25/8/2020', periods=len(df), freq='S')\n",
    "Datetime = pd.DataFrame({'Datetime':index})"
   ]
  },
  {
   "cell_type": "code",
   "execution_count": 7,
   "metadata": {},
   "outputs": [],
   "source": [
    "df = pd.concat([Datetime, df], axis=1,)"
   ]
  },
  {
   "cell_type": "code",
   "execution_count": 8,
   "metadata": {},
   "outputs": [
    {
     "data": {
      "text/html": [
       "<div>\n",
       "<style scoped>\n",
       "    .dataframe tbody tr th:only-of-type {\n",
       "        vertical-align: middle;\n",
       "    }\n",
       "\n",
       "    .dataframe tbody tr th {\n",
       "        vertical-align: top;\n",
       "    }\n",
       "\n",
       "    .dataframe thead th {\n",
       "        text-align: right;\n",
       "    }\n",
       "</style>\n",
       "<table border=\"1\" class=\"dataframe\">\n",
       "  <thead>\n",
       "    <tr style=\"text-align: right;\">\n",
       "      <th></th>\n",
       "      <th>Datetime</th>\n",
       "      <th>boyas14_ts002</th>\n",
       "      <th>inu_vina80_ts002</th>\n",
       "      <th>boyas14_ts034</th>\n",
       "      <th>inu_vina80_ts034</th>\n",
       "      <th>boyas14_ts035</th>\n",
       "      <th>inu_vina80_ts035</th>\n",
       "      <th>boyas14_ts043</th>\n",
       "      <th>inu_vina80_ts043</th>\n",
       "      <th>boyas14_ts050</th>\n",
       "      <th>...</th>\n",
       "      <th>boyas14_s_026</th>\n",
       "      <th>inu_vina80_s_026</th>\n",
       "      <th>boyas14_s_027</th>\n",
       "      <th>inu_vina80_s_027</th>\n",
       "      <th>boyas14_s_031</th>\n",
       "      <th>inu_vina80_s_031</th>\n",
       "      <th>boyas14_s_032</th>\n",
       "      <th>inu_vina80_s_032</th>\n",
       "      <th>boyas14_s_033</th>\n",
       "      <th>inu_vina80_s_033</th>\n",
       "    </tr>\n",
       "  </thead>\n",
       "  <tbody>\n",
       "    <tr>\n",
       "      <th>0</th>\n",
       "      <td>2020-08-25 00:00:00</td>\n",
       "      <td>0.000000e+00</td>\n",
       "      <td>0</td>\n",
       "      <td>0.000000</td>\n",
       "      <td>0</td>\n",
       "      <td>0.000000e+00</td>\n",
       "      <td>0.0</td>\n",
       "      <td>0.000000</td>\n",
       "      <td>0</td>\n",
       "      <td>0.000000e+00</td>\n",
       "      <td>...</td>\n",
       "      <td>0.000000</td>\n",
       "      <td>0</td>\n",
       "      <td>0.000000</td>\n",
       "      <td>0</td>\n",
       "      <td>0.000000</td>\n",
       "      <td>0</td>\n",
       "      <td>0.000000</td>\n",
       "      <td>0</td>\n",
       "      <td>0.000000</td>\n",
       "      <td>0</td>\n",
       "    </tr>\n",
       "    <tr>\n",
       "      <th>1</th>\n",
       "      <td>2020-08-25 00:00:01</td>\n",
       "      <td>-8.289000e-07</td>\n",
       "      <td>0</td>\n",
       "      <td>0.000003</td>\n",
       "      <td>0</td>\n",
       "      <td>2.070000e-07</td>\n",
       "      <td>0.0</td>\n",
       "      <td>-0.000001</td>\n",
       "      <td>0</td>\n",
       "      <td>6.162000e-07</td>\n",
       "      <td>...</td>\n",
       "      <td>0.000002</td>\n",
       "      <td>0</td>\n",
       "      <td>0.000001</td>\n",
       "      <td>0</td>\n",
       "      <td>0.000002</td>\n",
       "      <td>0</td>\n",
       "      <td>-0.000002</td>\n",
       "      <td>0</td>\n",
       "      <td>0.000002</td>\n",
       "      <td>0</td>\n",
       "    </tr>\n",
       "    <tr>\n",
       "      <th>2</th>\n",
       "      <td>2020-08-25 00:00:02</td>\n",
       "      <td>-1.751200e-06</td>\n",
       "      <td>0</td>\n",
       "      <td>0.000008</td>\n",
       "      <td>0</td>\n",
       "      <td>3.802000e-07</td>\n",
       "      <td>0.0</td>\n",
       "      <td>-0.000003</td>\n",
       "      <td>0</td>\n",
       "      <td>1.357000e-06</td>\n",
       "      <td>...</td>\n",
       "      <td>0.000006</td>\n",
       "      <td>0</td>\n",
       "      <td>0.000003</td>\n",
       "      <td>0</td>\n",
       "      <td>0.000005</td>\n",
       "      <td>0</td>\n",
       "      <td>-0.000005</td>\n",
       "      <td>0</td>\n",
       "      <td>0.000006</td>\n",
       "      <td>0</td>\n",
       "    </tr>\n",
       "    <tr>\n",
       "      <th>3</th>\n",
       "      <td>2020-08-25 00:00:03</td>\n",
       "      <td>-2.761000e-06</td>\n",
       "      <td>0</td>\n",
       "      <td>0.000015</td>\n",
       "      <td>0</td>\n",
       "      <td>4.539000e-07</td>\n",
       "      <td>0.0</td>\n",
       "      <td>-0.000006</td>\n",
       "      <td>0</td>\n",
       "      <td>2.279000e-06</td>\n",
       "      <td>...</td>\n",
       "      <td>0.000012</td>\n",
       "      <td>0</td>\n",
       "      <td>0.000006</td>\n",
       "      <td>0</td>\n",
       "      <td>0.000010</td>\n",
       "      <td>0</td>\n",
       "      <td>-0.000009</td>\n",
       "      <td>0</td>\n",
       "      <td>0.000010</td>\n",
       "      <td>0</td>\n",
       "    </tr>\n",
       "    <tr>\n",
       "      <th>4</th>\n",
       "      <td>2020-08-25 00:00:04</td>\n",
       "      <td>-4.259300e-06</td>\n",
       "      <td>0</td>\n",
       "      <td>0.000036</td>\n",
       "      <td>0</td>\n",
       "      <td>-6.210000e-08</td>\n",
       "      <td>0.0</td>\n",
       "      <td>-0.000016</td>\n",
       "      <td>0</td>\n",
       "      <td>4.225900e-06</td>\n",
       "      <td>...</td>\n",
       "      <td>0.000033</td>\n",
       "      <td>0</td>\n",
       "      <td>0.000014</td>\n",
       "      <td>0</td>\n",
       "      <td>0.000022</td>\n",
       "      <td>0</td>\n",
       "      <td>-0.000016</td>\n",
       "      <td>0</td>\n",
       "      <td>0.000025</td>\n",
       "      <td>0</td>\n",
       "    </tr>\n",
       "  </tbody>\n",
       "</table>\n",
       "<p>5 rows × 195 columns</p>\n",
       "</div>"
      ],
      "text/plain": [
       "             Datetime  boyas14_ts002  inu_vina80_ts002  boyas14_ts034  \\\n",
       "0 2020-08-25 00:00:00   0.000000e+00                 0       0.000000   \n",
       "1 2020-08-25 00:00:01  -8.289000e-07                 0       0.000003   \n",
       "2 2020-08-25 00:00:02  -1.751200e-06                 0       0.000008   \n",
       "3 2020-08-25 00:00:03  -2.761000e-06                 0       0.000015   \n",
       "4 2020-08-25 00:00:04  -4.259300e-06                 0       0.000036   \n",
       "\n",
       "   inu_vina80_ts034  boyas14_ts035  inu_vina80_ts035  boyas14_ts043  \\\n",
       "0                 0   0.000000e+00               0.0       0.000000   \n",
       "1                 0   2.070000e-07               0.0      -0.000001   \n",
       "2                 0   3.802000e-07               0.0      -0.000003   \n",
       "3                 0   4.539000e-07               0.0      -0.000006   \n",
       "4                 0  -6.210000e-08               0.0      -0.000016   \n",
       "\n",
       "   inu_vina80_ts043  boyas14_ts050  ...  boyas14_s_026  inu_vina80_s_026  \\\n",
       "0                 0   0.000000e+00  ...       0.000000                 0   \n",
       "1                 0   6.162000e-07  ...       0.000002                 0   \n",
       "2                 0   1.357000e-06  ...       0.000006                 0   \n",
       "3                 0   2.279000e-06  ...       0.000012                 0   \n",
       "4                 0   4.225900e-06  ...       0.000033                 0   \n",
       "\n",
       "   boyas14_s_027  inu_vina80_s_027  boyas14_s_031  inu_vina80_s_031  \\\n",
       "0       0.000000                 0       0.000000                 0   \n",
       "1       0.000001                 0       0.000002                 0   \n",
       "2       0.000003                 0       0.000005                 0   \n",
       "3       0.000006                 0       0.000010                 0   \n",
       "4       0.000014                 0       0.000022                 0   \n",
       "\n",
       "   boyas14_s_032  inu_vina80_s_032  boyas14_s_033  inu_vina80_s_033  \n",
       "0       0.000000                 0       0.000000                 0  \n",
       "1      -0.000002                 0       0.000002                 0  \n",
       "2      -0.000005                 0       0.000006                 0  \n",
       "3      -0.000009                 0       0.000010                 0  \n",
       "4      -0.000016                 0       0.000025                 0  \n",
       "\n",
       "[5 rows x 195 columns]"
      ]
     },
     "execution_count": 8,
     "metadata": {},
     "output_type": "execute_result"
    }
   ],
   "source": [
    "df.head()"
   ]
  },
  {
   "cell_type": "code",
   "execution_count": 10,
   "metadata": {},
   "outputs": [
    {
     "ename": "KeyError",
     "evalue": "'boyas80_ts035'",
     "output_type": "error",
     "traceback": [
      "\u001b[0;31m---------------------------------------------------------------------------\u001b[0m",
      "\u001b[0;31mKeyError\u001b[0m                                  Traceback (most recent call last)",
      "\u001b[0;32m~/anaconda3/envs/machinelearning/lib/python3.7/site-packages/pandas/core/indexes/base.py\u001b[0m in \u001b[0;36mget_loc\u001b[0;34m(self, key, method, tolerance)\u001b[0m\n\u001b[1;32m   2645\u001b[0m             \u001b[0;32mtry\u001b[0m\u001b[0;34m:\u001b[0m\u001b[0;34m\u001b[0m\u001b[0m\n\u001b[0;32m-> 2646\u001b[0;31m                 \u001b[0;32mreturn\u001b[0m \u001b[0mself\u001b[0m\u001b[0;34m.\u001b[0m\u001b[0m_engine\u001b[0m\u001b[0;34m.\u001b[0m\u001b[0mget_loc\u001b[0m\u001b[0;34m(\u001b[0m\u001b[0mkey\u001b[0m\u001b[0;34m)\u001b[0m\u001b[0;34m\u001b[0m\u001b[0m\n\u001b[0m\u001b[1;32m   2647\u001b[0m             \u001b[0;32mexcept\u001b[0m \u001b[0mKeyError\u001b[0m\u001b[0;34m:\u001b[0m\u001b[0;34m\u001b[0m\u001b[0m\n",
      "\u001b[0;32mpandas/_libs/index.pyx\u001b[0m in \u001b[0;36mpandas._libs.index.IndexEngine.get_loc\u001b[0;34m()\u001b[0m\n",
      "\u001b[0;32mpandas/_libs/index.pyx\u001b[0m in \u001b[0;36mpandas._libs.index.IndexEngine.get_loc\u001b[0;34m()\u001b[0m\n",
      "\u001b[0;32mpandas/_libs/hashtable_class_helper.pxi\u001b[0m in \u001b[0;36mpandas._libs.hashtable.PyObjectHashTable.get_item\u001b[0;34m()\u001b[0m\n",
      "\u001b[0;32mpandas/_libs/hashtable_class_helper.pxi\u001b[0m in \u001b[0;36mpandas._libs.hashtable.PyObjectHashTable.get_item\u001b[0;34m()\u001b[0m\n",
      "\u001b[0;31mKeyError\u001b[0m: 'boyas80_ts035'",
      "\nDuring handling of the above exception, another exception occurred:\n",
      "\u001b[0;31mKeyError\u001b[0m                                  Traceback (most recent call last)",
      "\u001b[0;32m<ipython-input-10-9e9e814fd1f4>\u001b[0m in \u001b[0;36m<module>\u001b[0;34m\u001b[0m\n\u001b[1;32m      7\u001b[0m \u001b[0mplt\u001b[0m\u001b[0;34m.\u001b[0m\u001b[0mxlabel\u001b[0m\u001b[0;34m(\u001b[0m\u001b[0;34m'Time'\u001b[0m\u001b[0;34m,\u001b[0m\u001b[0mfontsize\u001b[0m\u001b[0;34m=\u001b[0m\u001b[0;36m17\u001b[0m\u001b[0;34m)\u001b[0m\u001b[0;34m\u001b[0m\u001b[0m\n\u001b[1;32m      8\u001b[0m \u001b[0mplt\u001b[0m\u001b[0;34m.\u001b[0m\u001b[0mylabel\u001b[0m\u001b[0;34m(\u001b[0m\u001b[0;34m'Altura de inundación [m]'\u001b[0m\u001b[0;34m,\u001b[0m\u001b[0mfontsize\u001b[0m\u001b[0;34m=\u001b[0m\u001b[0;36m17\u001b[0m\u001b[0;34m)\u001b[0m\u001b[0;34m\u001b[0m\u001b[0m\n\u001b[0;32m----> 9\u001b[0;31m \u001b[0mplt\u001b[0m\u001b[0;34m.\u001b[0m\u001b[0mplot\u001b[0m\u001b[0;34m(\u001b[0m\u001b[0mdf\u001b[0m\u001b[0;34m[\u001b[0m\u001b[0;34m'boyas80_ts035'\u001b[0m\u001b[0;34m]\u001b[0m\u001b[0;34m,\u001b[0m \u001b[0mcolor\u001b[0m\u001b[0;34m=\u001b[0m\u001b[0;34m'm'\u001b[0m\u001b[0;34m,\u001b[0m \u001b[0mlinewidth\u001b[0m\u001b[0;34m=\u001b[0m\u001b[0;36m1.0\u001b[0m\u001b[0;34m)\u001b[0m\u001b[0;34m\u001b[0m\u001b[0m\n\u001b[0m\u001b[1;32m     10\u001b[0m \u001b[0mplt\u001b[0m\u001b[0;34m.\u001b[0m\u001b[0mylim\u001b[0m\u001b[0;34m(\u001b[0m\u001b[0;34m-\u001b[0m\u001b[0;36m5\u001b[0m\u001b[0;34m,\u001b[0m\u001b[0;36m25\u001b[0m\u001b[0;34m)\u001b[0m\u001b[0;34m\u001b[0m\u001b[0m\n\u001b[1;32m     11\u001b[0m \u001b[0mplt\u001b[0m\u001b[0;34m.\u001b[0m\u001b[0mtwinx\u001b[0m\u001b[0;34m(\u001b[0m\u001b[0;34m)\u001b[0m\u001b[0;34m\u001b[0m\u001b[0m\n",
      "\u001b[0;32m~/anaconda3/envs/machinelearning/lib/python3.7/site-packages/pandas/core/frame.py\u001b[0m in \u001b[0;36m__getitem__\u001b[0;34m(self, key)\u001b[0m\n\u001b[1;32m   2798\u001b[0m             \u001b[0;32mif\u001b[0m \u001b[0mself\u001b[0m\u001b[0;34m.\u001b[0m\u001b[0mcolumns\u001b[0m\u001b[0;34m.\u001b[0m\u001b[0mnlevels\u001b[0m \u001b[0;34m>\u001b[0m \u001b[0;36m1\u001b[0m\u001b[0;34m:\u001b[0m\u001b[0;34m\u001b[0m\u001b[0m\n\u001b[1;32m   2799\u001b[0m                 \u001b[0;32mreturn\u001b[0m \u001b[0mself\u001b[0m\u001b[0;34m.\u001b[0m\u001b[0m_getitem_multilevel\u001b[0m\u001b[0;34m(\u001b[0m\u001b[0mkey\u001b[0m\u001b[0;34m)\u001b[0m\u001b[0;34m\u001b[0m\u001b[0m\n\u001b[0;32m-> 2800\u001b[0;31m             \u001b[0mindexer\u001b[0m \u001b[0;34m=\u001b[0m \u001b[0mself\u001b[0m\u001b[0;34m.\u001b[0m\u001b[0mcolumns\u001b[0m\u001b[0;34m.\u001b[0m\u001b[0mget_loc\u001b[0m\u001b[0;34m(\u001b[0m\u001b[0mkey\u001b[0m\u001b[0;34m)\u001b[0m\u001b[0;34m\u001b[0m\u001b[0m\n\u001b[0m\u001b[1;32m   2801\u001b[0m             \u001b[0;32mif\u001b[0m \u001b[0mis_integer\u001b[0m\u001b[0;34m(\u001b[0m\u001b[0mindexer\u001b[0m\u001b[0;34m)\u001b[0m\u001b[0;34m:\u001b[0m\u001b[0;34m\u001b[0m\u001b[0m\n\u001b[1;32m   2802\u001b[0m                 \u001b[0mindexer\u001b[0m \u001b[0;34m=\u001b[0m \u001b[0;34m[\u001b[0m\u001b[0mindexer\u001b[0m\u001b[0;34m]\u001b[0m\u001b[0;34m\u001b[0m\u001b[0m\n",
      "\u001b[0;32m~/anaconda3/envs/machinelearning/lib/python3.7/site-packages/pandas/core/indexes/base.py\u001b[0m in \u001b[0;36mget_loc\u001b[0;34m(self, key, method, tolerance)\u001b[0m\n\u001b[1;32m   2646\u001b[0m                 \u001b[0;32mreturn\u001b[0m \u001b[0mself\u001b[0m\u001b[0;34m.\u001b[0m\u001b[0m_engine\u001b[0m\u001b[0;34m.\u001b[0m\u001b[0mget_loc\u001b[0m\u001b[0;34m(\u001b[0m\u001b[0mkey\u001b[0m\u001b[0;34m)\u001b[0m\u001b[0;34m\u001b[0m\u001b[0m\n\u001b[1;32m   2647\u001b[0m             \u001b[0;32mexcept\u001b[0m \u001b[0mKeyError\u001b[0m\u001b[0;34m:\u001b[0m\u001b[0;34m\u001b[0m\u001b[0m\n\u001b[0;32m-> 2648\u001b[0;31m                 \u001b[0;32mreturn\u001b[0m \u001b[0mself\u001b[0m\u001b[0;34m.\u001b[0m\u001b[0m_engine\u001b[0m\u001b[0;34m.\u001b[0m\u001b[0mget_loc\u001b[0m\u001b[0;34m(\u001b[0m\u001b[0mself\u001b[0m\u001b[0;34m.\u001b[0m\u001b[0m_maybe_cast_indexer\u001b[0m\u001b[0;34m(\u001b[0m\u001b[0mkey\u001b[0m\u001b[0;34m)\u001b[0m\u001b[0;34m)\u001b[0m\u001b[0;34m\u001b[0m\u001b[0m\n\u001b[0m\u001b[1;32m   2649\u001b[0m         \u001b[0mindexer\u001b[0m \u001b[0;34m=\u001b[0m \u001b[0mself\u001b[0m\u001b[0;34m.\u001b[0m\u001b[0mget_indexer\u001b[0m\u001b[0;34m(\u001b[0m\u001b[0;34m[\u001b[0m\u001b[0mkey\u001b[0m\u001b[0;34m]\u001b[0m\u001b[0;34m,\u001b[0m \u001b[0mmethod\u001b[0m\u001b[0;34m=\u001b[0m\u001b[0mmethod\u001b[0m\u001b[0;34m,\u001b[0m \u001b[0mtolerance\u001b[0m\u001b[0;34m=\u001b[0m\u001b[0mtolerance\u001b[0m\u001b[0;34m)\u001b[0m\u001b[0;34m\u001b[0m\u001b[0m\n\u001b[1;32m   2650\u001b[0m         \u001b[0;32mif\u001b[0m \u001b[0mindexer\u001b[0m\u001b[0;34m.\u001b[0m\u001b[0mndim\u001b[0m \u001b[0;34m>\u001b[0m \u001b[0;36m1\u001b[0m \u001b[0;32mor\u001b[0m \u001b[0mindexer\u001b[0m\u001b[0;34m.\u001b[0m\u001b[0msize\u001b[0m \u001b[0;34m>\u001b[0m \u001b[0;36m1\u001b[0m\u001b[0;34m:\u001b[0m\u001b[0;34m\u001b[0m\u001b[0m\n",
      "\u001b[0;32mpandas/_libs/index.pyx\u001b[0m in \u001b[0;36mpandas._libs.index.IndexEngine.get_loc\u001b[0;34m()\u001b[0m\n",
      "\u001b[0;32mpandas/_libs/index.pyx\u001b[0m in \u001b[0;36mpandas._libs.index.IndexEngine.get_loc\u001b[0;34m()\u001b[0m\n",
      "\u001b[0;32mpandas/_libs/hashtable_class_helper.pxi\u001b[0m in \u001b[0;36mpandas._libs.hashtable.PyObjectHashTable.get_item\u001b[0;34m()\u001b[0m\n",
      "\u001b[0;32mpandas/_libs/hashtable_class_helper.pxi\u001b[0m in \u001b[0;36mpandas._libs.hashtable.PyObjectHashTable.get_item\u001b[0;34m()\u001b[0m\n",
      "\u001b[0;31mKeyError\u001b[0m: 'boyas80_ts035'"
     ]
    },
    {
     "data": {
      "image/png": "[encoded data removed]",
      "text/plain": [
       "<Figure size 1680x720 with 1 Axes>"
      ]
     },
     "metadata": {
      "needs_background": "light"
     },
     "output_type": "display_data"
    }
   ],
   "source": [
    "plt.figure(figsize=(14,6), dpi=120)\n",
    "\n",
    "plt.ion()\n",
    "plt.rc('xtick', labelsize=13) \n",
    "plt.rc('ytick', labelsize=13)\n",
    "plt.title('Altura boya 14 y 79 Viña, ts035 8.6 Mw',fontsize=17)\n",
    "plt.xlabel('Time',fontsize=17)\n",
    "plt.ylabel('Altura de inundación [m]',fontsize=17)\n",
    "plt.plot(df['boyas80_ts035'], color='m', linewidth=1.0)\n",
    "plt.ylim(-5,25)\n",
    "plt.twinx()\n",
    "plt.plot(df['boyas14_ts035'], color='#1C7C54', linewidth=1.0)\n",
    "plt.ylim(-10,10)\n",
    "ax = plt.gca()\n",
    "#ax.invert_yaxis()\n",
    "plt.ylabel('Altura de ola [m]',fontsize=17)"
   ]
  },
  {
   "cell_type": "code",
   "execution_count": null,
   "metadata": {},
   "outputs": [],
   "source": [
    "df = df.loc[0:1799]"
   ]
  },
  {
   "cell_type": "code",
   "execution_count": null,
   "metadata": {},
   "outputs": [],
   "source": [
    "df.describe()"
   ]
  },
  {
   "cell_type": "code",
   "execution_count": null,
   "metadata": {},
   "outputs": [],
   "source": [
    "60*60*4"
   ]
  },
  {
   "cell_type": "code",
   "execution_count": null,
   "metadata": {},
   "outputs": [],
   "source": [
    "df = df.resample('S', on='Datetime').mean()"
   ]
  },
  {
   "cell_type": "code",
   "execution_count": null,
   "metadata": {},
   "outputs": [],
   "source": [
    "plt.figure(figsize=(14,6), dpi=120)\n",
    "\n",
    "plt.ion()\n",
    "plt.rc('xtick', labelsize=13) \n",
    "plt.rc('ytick', labelsize=13)\n",
    "plt.title('Altura boya 14 y 80 Viña, ts035 8.6 Mw',fontsize=17)\n",
    "plt.xlabel('Time',fontsize=17)\n",
    "plt.ylabel('Altura de inundación [m]',fontsize=17)\n",
    "plt.plot(df['boyas79_ts035'], color='m', linewidth=1.0)\n",
    "plt.ylim(-5,25)\n",
    "plt.twinx()\n",
    "plt.plot(df['boyas14_ts035'], color='#1C7C54', linewidth=1.0)\n",
    "plt.ylim(-10,10)\n",
    "ax = plt.gca()\n",
    "#ax.invert_yaxis()\n",
    "plt.ylabel('Altura de ola [m]',fontsize=17)\n"
   ]
  },
  {
   "cell_type": "code",
   "execution_count": null,
   "metadata": {},
   "outputs": [],
   "source": [
    "df = df.resample('T').max()"
   ]
  },
  {
   "cell_type": "code",
   "execution_count": null,
   "metadata": {},
   "outputs": [],
   "source": [
    "plt.figure(figsize=(14,6), dpi=120)\n",
    "\n",
    "plt.ion()\n",
    "plt.rc('xtick', labelsize=13) \n",
    "plt.rc('ytick', labelsize=13)\n",
    "plt.title('Altura boya 14 y 80 Viña, ts035 8.6 Mw',fontsize=17)\n",
    "plt.xlabel('Time',fontsize=17)\n",
    "plt.ylabel('Altura de inundación [m]',fontsize=17)\n",
    "plt.plot(df['boyas79_ts035'], color='m', linewidth=1.0)\n",
    "plt.ylim(-5,25)\n",
    "plt.twinx()\n",
    "plt.plot(df['boyas14_ts035'], color='#1C7C54', linewidth=1.0)\n",
    "plt.ylim(-10,10)\n",
    "ax = plt.gca()\n",
    "#ax.invert_yaxis()\n",
    "plt.ylabel('Altura de ola [m]',fontsize=17)\n"
   ]
  },
  {
   "cell_type": "code",
   "execution_count": null,
   "metadata": {},
   "outputs": [],
   "source": [
    "df.describe()"
   ]
  },
  {
   "cell_type": "code",
   "execution_count": null,
   "metadata": {},
   "outputs": [],
   "source": [
    "#data_pre_train, data_pre_temp = train_test_split(data, test_size= 0.5)\n",
    "#data_pre_val, data_pre_test = train_test_split(data_pre_temp, test_size= 0.4)\n",
    "\n",
    "#scaler = StandardScaler().fit(df)\n",
    "#df= pd.DataFrame(scaler.transform(df),\n",
    "#                                 columns=df.columns)\n"
   ]
  },
  {
   "cell_type": "code",
   "execution_count": null,
   "metadata": {},
   "outputs": [],
   "source": [
    "xtest = df.pop('boyas14_ts035') # asigna y quita columna\n",
    "ytest = df.pop('boyas79_ts035') # asigna y quita columna"
   ]
  },
  {
   "cell_type": "code",
   "execution_count": null,
   "metadata": {},
   "outputs": [],
   "source": [
    "df = df.values.astype('float32')\n",
    "xtest = xtest.values.astype('float32')\n",
    "ytest = ytest.values.astype('float32')"
   ]
  },
  {
   "cell_type": "code",
   "execution_count": null,
   "metadata": {},
   "outputs": [],
   "source": [
    "# genera secuencias de entrada y salida\n",
    "\n",
    "def split_sequence(df):\n",
    "    X, y = list(), list()\n",
    "    for time in range(0,df.shape[1],2):\n",
    "        # se suma uno porque no considera el ultimo\n",
    "        seq_x, seq_y = df[:,time], df[:,time+1]\n",
    "        X.append(seq_x)\n",
    "        y.append(seq_y)\n",
    "    return np.array(X), np.array(y)\n"
   ]
  },
  {
   "cell_type": "code",
   "execution_count": null,
   "metadata": {},
   "outputs": [],
   "source": [
    "trainX,trainY = split_sequence(df)\n",
    "testX,testY = xtest,ytest"
   ]
  },
  {
   "cell_type": "code",
   "execution_count": null,
   "metadata": {},
   "outputs": [],
   "source": [
    "n_features = 1\n",
    "n_steps = trainX.shape[1]\n",
    "print('n_steps :',n_steps)"
   ]
  },
  {
   "cell_type": "code",
   "execution_count": null,
   "metadata": {},
   "outputs": [],
   "source": [
    "trainX = trainX.reshape((trainX.shape[0], trainX.shape[1], n_features))\n"
   ]
  },
  {
   "cell_type": "code",
   "execution_count": null,
   "metadata": {},
   "outputs": [],
   "source": [
    "trainX.shape"
   ]
  },
  {
   "cell_type": "code",
   "execution_count": null,
   "metadata": {},
   "outputs": [],
   "source": [
    "trainY.shape"
   ]
  },
  {
   "cell_type": "code",
   "execution_count": null,
   "metadata": {},
   "outputs": [],
   "source": [
    "groups = [0,0,0,0,0,0,1,1,1,0,0,0,0,0,0,0,0,0,1,0,1,0,0,0,0,0,0,0,0,0,0,0,0,0,\n",
    "          0,0,0,0,0,0,0,0,0,1,0,0,1,1,1,0,0,0,0,0,0,0,0,0,0,0,0,0,0,0,0,0,0,1,\n",
    "          0,0,1,0,0,0,1,0,0,1,1,0,0,0,0,0,0,1,0,1,0,0,0,0,0,0,0,0]"
   ]
  },
  {
   "cell_type": "markdown",
   "metadata": {},
   "source": [
    "**comentario :** Etiquetas para diferencias las escenarios que **Si inundan** y los que **No indundan**, debido a lo desbalanceada que esta la data aproximadamente solo el 18% de los escenarios inundan. "
   ]
  },
  {
   "cell_type": "markdown",
   "metadata": {},
   "source": [
    "## CNN 1-D."
   ]
  },
  {
   "cell_type": "code",
   "execution_count": null,
   "metadata": {},
   "outputs": [],
   "source": [
    "from keras.callbacks import EarlyStopping\n",
    "es = EarlyStopping(monitor='val_loss', mode='min', verbose=1)"
   ]
  },
  {
   "cell_type": "code",
   "execution_count": null,
   "metadata": {},
   "outputs": [],
   "source": [
    "#initializer = initializers.glorot_uniform(seed = 42)\n",
    "#bias_ini = initializers.Constant(value=0.1)\n"
   ]
  },
  {
   "cell_type": "code",
   "execution_count": null,
   "metadata": {},
   "outputs": [],
   "source": [
    "\n",
    "import time\n",
    "epoch = 40\n",
    "n = 0.8\n",
    "Xm = trainX\n",
    "ym = trainY\n",
    "skf = StratifiedKFold(n_splits=2,shuffle=True)#,random_state=42)\n",
    "skf.get_n_splits(Xm, groups)\n",
    "start = time.time()\n",
    "\n",
    "hist = History()\n",
    "model = Sequential()\n",
    "model.add(Conv1D(filters=64, kernel_size=22,#kernel_initializer=initializer, bias_initializer=bias_ini,\n",
    "                 activation='relu', input_shape=(n_steps, n_features)))\n",
    "model.add(Conv1D(filters=8, kernel_size=4,#kernel_initializer=initializer,bias_initializer=bias_ini,\n",
    "                 activation='relu'))\n",
    "#model.add(MaxPooling1D(pool_size=20))\n",
    "#model.add(Dropout(0.3))\n",
    "#model.add(Conv1D(filters=16, kernel_size=3,kernel_initializer=initializer, activation='relu'))\n",
    "#model.add(Conv1D(filters=8, kernel_size=3, kernel_initializer=initializer,activation='relu'))\n",
    "#model.add(Conv1D(filters=16, kernel_size=3,kernel_initializer=initializer, activation='relu'))\n",
    "#model.add(MaxPooling1D(pool_size=10))\n",
    "#model.add(Conv1D(filters=32, kernel_size=3,kernel_initializer=initializer, activation='relu'))\n",
    "#model.add(Conv1D(filters=64, kernel_size=3,kernel_initializer=initializer, activation='relu'))\n",
    "#model.add(MaxPooling1D(pool_size=8))\n",
    "#model.add(Dropout(0.3,seed = 42))\n",
    "model.add(Flatten())\n",
    "model.add(Dense(60,#kernel_initializer=initializer,bias_initializer=bias_ini, \n",
    "                activation='relu'))\n",
    "#model.add(LSTM(30, activation='relu'))\n",
    "model.add(Dense(n_steps,#kernel_initializer=initializer,bias_initializer=bias_ini, \n",
    "                activation='linear'))\n",
    "#\n",
    "model.compile(optimizer=Adam(lr=0.0055*n), loss='mse')\n",
    "\n",
    "for train, test in skf.split(Xm, groups): #tscv.split(Xm):\n",
    "    history = model.fit(Xm[train], ym[train],validation_data=(Xm[test], ym[test]), epochs=epoch, verbose=0\n",
    "                        ,callbacks=[hist])\n",
    "\n",
    "end = time.time()\n",
    "\n",
    "print('time execution',(end - start)/60)\n"
   ]
  },
  {
   "cell_type": "code",
   "execution_count": null,
   "metadata": {},
   "outputs": [],
   "source": [
    "import matplotlib.pyplot as plt\n",
    "a=np.linspace(1,epoch,epoch)\n",
    "plt.figure(figsize=(24,4), dpi=100)\n",
    "plt.rc('xtick', labelsize=14) \n",
    "plt.rc('ytick', labelsize=14) \n",
    "plt.subplot(1,2,1)\n",
    "plt.plot(hist.history['val_loss'],'r.',label = 'Validation')\n",
    "plt.plot(hist.history['loss'],'g.',label = 'Train')\n",
    "plt.xlabel('Epohcs',fontsize=15)\n",
    "plt.ylabel('MSE',fontsize=15)\n",
    "plt.legend(loc='upper right')"
   ]
  },
  {
   "cell_type": "code",
   "execution_count": null,
   "metadata": {},
   "outputs": [],
   "source": [
    "trainX = df[:,50]\n",
    "trainY = df[:,51]\n",
    "trainX=trainX.reshape((1,n_steps,1))\n",
    "testX=testX.reshape((1,n_steps,1))"
   ]
  },
  {
   "cell_type": "code",
   "execution_count": null,
   "metadata": {},
   "outputs": [],
   "source": [
    "trainPredict = (model.predict(trainX)).reshape(-1,1)\n",
    "testPredict = (model.predict(testX)).reshape(-1,1)"
   ]
  },
  {
   "cell_type": "code",
   "execution_count": null,
   "metadata": {},
   "outputs": [],
   "source": [
    "# invert predictions\n",
    "\"\"\"\n",
    "trainPredict = scaler.inverse_transform(trainPredict.reshape(-1,1))\n",
    "trainY = scaler.inverse_transform(trainY.reshape(-1,1))\n",
    "testPredict = scaler.inverse_transform(testPredict.reshape(-1,1))\n",
    "testY = scaler.inverse_transform(testY.reshape(-1,1))\n",
    "\"\"\""
   ]
  },
  {
   "cell_type": "code",
   "execution_count": null,
   "metadata": {},
   "outputs": [],
   "source": [
    "plt.figure(figsize=(18,8), dpi=100)\n",
    "\n",
    "#plt.subplot(2,1,1)\n",
    "plt.plot(trainY,label = 'real train')\n",
    "plt.plot(trainPredict, label = 'simulado train')\n",
    "plt.plot(testY,label = 'real test')\n",
    "plt.plot(testPredict, label = 'simulado test')\n",
    "plt.rc('xtick', labelsize=17) \n",
    "plt.rc('ytick', labelsize=17)\n",
    "plt.title('Altura de inundación Viña (80), con boya 14, 8.6 Mw',fontsize=17)\n",
    "plt.ylabel('Altura [m]',fontsize=17)\n",
    "plt.xlabel('Tiempo [min]',fontsize=17)\n",
    "plt.legend(loc='upper right',fontsize=17)\n",
    "\n",
    "#plt.subplot(2,1,2)\n",
    "#plt.plot(testY,label = 'real test')\n",
    "#plt.plot(testPredict, label = 'simulado test')\n",
    "#plt.rc('xtick', labelsize=17) \n",
    "#plt.rc('ytick', labelsize=17)\n",
    "#plt.title('Altura de inundación boya 6 Valparaiso, E3 8.5 Mw',fontsize=17)\n",
    "#plt.ylabel('Altura [m]',fontsize=17)\n",
    "#plt.xlabel('Tiempo [s]',fontsize=17)\n",
    "#plt.legend(loc='upper right',fontsize=17)"
   ]
  },
  {
   "cell_type": "markdown",
   "metadata": {},
   "source": [
    "- buscar metrica que penalice mas el error de los maximos.\n",
    "- buscar split que realice una separacion mas balanceada.\n",
    "- probar modelo convolucional 1D. con atencion.\n",
    "- transfer learning con autoencoder.\n",
    "- capa attention en lstm"
   ]
  },
  {
   "cell_type": "code",
   "execution_count": null,
   "metadata": {},
   "outputs": [],
   "source": []
  }
 ],
 "metadata": {
  "kernelspec": {
   "display_name": "Python 3",
   "language": "python",
   "name": "python3"
  },
  "language_info": {
   "codemirror_mode": {
    "name": "ipython",
    "version": 3
   },
   "file_extension": ".py",
   "mimetype": "text/x-python",
   "name": "python",
   "nbconvert_exporter": "python",
   "pygments_lexer": "ipython3",
   "version": "3.7.0"
  }
 },
 "nbformat": 4,
 "nbformat_minor": 4
}
