{
 "cells": [
  {
   "cell_type": "code",
   "execution_count": 1,
   "metadata": {},
   "outputs": [],
   "source": [
    "import os\n",
    "from netCDF4 import Dataset\n",
    "import numpy as np\n",
    "import matplotlib.pyplot as plt\n",
    "import matplotlib.cm as cm\n",
    "import matplotlib.colors as mcolors\n",
    "from mpl_toolkits.axes_grid1 import make_axes_locatable\n",
    "from matplotlib import ticker\n"
   ]
  },
  {
   "cell_type": "code",
   "execution_count": 2,
   "metadata": {},
   "outputs": [
    {
     "name": "stdout",
     "output_type": "stream",
     "text": [
      "/home/jorge/tsunami-warning/dataset/series_mapa/layer04/\n"
     ]
    }
   ],
   "source": [
    "path = os.getcwd()\n",
    "folder= path + \"/dataset/series_mapa/layer04/\"\n",
    "print(folder)"
   ]
  },
  {
   "cell_type": "code",
   "execution_count": 3,
   "metadata": {},
   "outputs": [
    {
     "name": "stdout",
     "output_type": "stream",
     "text": [
      "['layer04E885.nc', 'layer04E185.nc', 'layer04E390.nc', 'layer04E395.nc', 'layer04E385.nc', 'layer04E485.nc']\n"
     ]
    }
   ],
   "source": [
    "files = []\n",
    "for file in os.listdir(folder):\n",
    "    if file.endswith(\".nc\"):\n",
    "        files.append(file)\n",
    "print(files)"
   ]
  },
  {
   "cell_type": "markdown",
   "metadata": {},
   "source": [
    "**comentario:** agrega todos los archivos .nc a lista pata hacer analisis de cada uno."
   ]
  },
  {
   "cell_type": "code",
   "execution_count": 5,
   "metadata": {},
   "outputs": [
    {
     "name": "stderr",
     "output_type": "stream",
     "text": [
      "/home/jorge/anaconda3/envs/machinelearning/lib/python3.7/site-packages/ipykernel_launcher.py:21: RuntimeWarning: invalid value encountered in greater\n"
     ]
    }
   ],
   "source": [
    "for file in files:\n",
    "    \n",
    "    rutafile = folder  + file\n",
    "    \n",
    "    f=Dataset(rutafile,'r') # abrir file\n",
    "    \n",
    "    # variables a utilizar\n",
    "    lon=f.variables['lon'][:]\n",
    "    lat=f.variables['lat'][:]\n",
    "    eta = f.variables['eta'][0]\n",
    "    nx=eta.shape[1]\n",
    "    ny=eta.shape[0]\n",
    "    bat=f.variables['deformed_bathy'][:]\n",
    "    \n",
    "    for e in range(len(f.variables['eta'])):\n",
    "        figure = plt.figure(figsize=(10,8), dpi=100)\n",
    "\n",
    "        eta = f.variables['eta'][e]-f.variables['eta'][0] \n",
    "        filtro = eta + f.variables['eta'][0] # lugar que no hay agua\n",
    "        eta[np.where(eta==0.0)] = np.NaN # altura de agua, falta restarle la topografi\n",
    "        bat[np.where(bat>0.0)] = np.NaN # topografia\n",
    "\n",
    "        minz=-5\n",
    "        maxz=20\n",
    "        curvas=100\n",
    "        delta = (maxz-minz)/curvas\n",
    "        contour=np.linspace(minz,maxz,curvas)\n",
    "\n",
    "        map = figure.add_subplot(111)\n",
    "\n",
    "        cs = map.contourf(lon,lat,eta,curvas,alpha=.9,cmap=cm.get_cmap('jet'),vmin=-15,vmax=15)\n",
    "        plt.gca().set_aspect('equal', adjustable='box')\n",
    "\n",
    "        plt.xlabel('LONGITUDE')\n",
    "        plt.ylabel('LATITUDE')\n",
    "        divider = make_axes_locatable(plt.gca())\n",
    "        cax = divider.append_axes(\"right\", size=\"5%\", pad=0.1)\n",
    "        cb=figure.colorbar(cs,format='%.2f',cax=cax)\n",
    "        cb.set_label('METERS')\n",
    "\n",
    "        if not os.path.exists(rutafile.split('.nc')[0]): # crea folder si no existe\n",
    "            os.makedirs(rutafile.split('.nc')[0])\n",
    "\n",
    "        figure.savefig(rutafile.split('.nc')[0]+'/'+file.split('.nc')[0]+'_time'+str(e)+'.png',\n",
    "                       dpi=300,bbox_inches = 'tight',pad_inches = 0)\n",
    "\n",
    "        plt.close()\n",
    "plt.show()"
   ]
  },
  {
   "cell_type": "code",
   "execution_count": null,
   "metadata": {},
   "outputs": [],
   "source": []
  }
 ],
 "metadata": {
  "kernelspec": {
   "display_name": "Python 3",
   "language": "python",
   "name": "python3"
  },
  "language_info": {
   "codemirror_mode": {
    "name": "ipython",
    "version": 3
   },
   "file_extension": ".py",
   "mimetype": "text/x-python",
   "name": "python",
   "nbconvert_exporter": "python",
   "pygments_lexer": "ipython3",
   "version": "3.7.0"
  }
 },
 "nbformat": 4,
 "nbformat_minor": 4
}
