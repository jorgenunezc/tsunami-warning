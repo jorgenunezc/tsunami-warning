{
 "cells": [
  {
   "cell_type": "code",
   "execution_count": 1,
   "metadata": {},
   "outputs": [],
   "source": [
    "import os\n",
    "from netCDF4 import Dataset\n",
    "import numpy as np\n",
    "import matplotlib.pyplot as plt\n",
    "import matplotlib.cm as cm\n",
    "import matplotlib.colors as mcolors\n",
    "from mpl_toolkits.axes_grid1 import make_axes_locatable\n",
    "from matplotlib import ticker\n",
    "import pandas as pd"
   ]
  },
  {
   "cell_type": "code",
   "execution_count": 2,
   "metadata": {},
   "outputs": [
    {
     "name": "stdout",
     "output_type": "stream",
     "text": [
      "/home/jorge/tsunami-warning/dataset/esc307-9.2Mw/level0/\n"
     ]
    }
   ],
   "source": [
    "path = os.getcwd() # donde esta el jupyter \n",
    "#folder= path + \"/dataset/series_mapa/layer04/\" # donde estan los .nc\n",
    "\n",
    "folder= path + \"/dataset/esc307-9.2Mw/level0/\"\n",
    "print(folder)"
   ]
  },
  {
   "cell_type": "code",
   "execution_count": 3,
   "metadata": {},
   "outputs": [
    {
     "name": "stdout",
     "output_type": "stream",
     "text": [
      "['level01.nc']\n"
     ]
    }
   ],
   "source": [
    "files = []\n",
    "for file in os.listdir(folder):\n",
    "    if file.endswith(\"01.nc\"):\n",
    "        files.append(file)\n",
    "print(files)"
   ]
  },
  {
   "cell_type": "code",
   "execution_count": 4,
   "metadata": {},
   "outputs": [],
   "source": [
    "files=['layer04E390.nc'] #pueba files original es el de arriba"
   ]
  },
  {
   "cell_type": "markdown",
   "metadata": {},
   "source": [
    "**comentario:** agrega todos los archivos .nc a lista pata hacer analisis de cada uno."
   ]
  },
  {
   "cell_type": "code",
   "execution_count": 5,
   "metadata": {
    "scrolled": false
   },
   "outputs": [
    {
     "name": "stdout",
     "output_type": "stream",
     "text": [
      "level01.nc\n",
      "OrderedDict([('lon', <class 'netCDF4._netCDF4.Variable'>\n",
      "float64 lon(lon)\n",
      "    long_name: longitude\n",
      "    units: degrees\n",
      "unlimited dimensions: \n",
      "current shape = (391,)\n",
      "filling on, default _FillValue of 9.969209968386869e+36 used\n",
      "), ('lat', <class 'netCDF4._netCDF4.Variable'>\n",
      "float64 lat(lat)\n",
      "    long_name: latitude\n",
      "    units: degrees\n",
      "unlimited dimensions: \n",
      "current shape = (1201,)\n",
      "filling on, default _FillValue of 9.969209968386869e+36 used\n",
      "), ('grid_lon', <class 'netCDF4._netCDF4.Variable'>\n",
      "float64 grid_lon(grid_lon)\n",
      "    long_name: Grid longitude\n",
      "    units: degrees\n",
      "unlimited dimensions: \n",
      "current shape = (391,)\n",
      "filling on, default _FillValue of 9.969209968386869e+36 used\n",
      "), ('grid_lat', <class 'netCDF4._netCDF4.Variable'>\n",
      "float64 grid_lat(grid_lat)\n",
      "    long_name: Grid latitude\n",
      "    units: degrees\n",
      "unlimited dimensions: \n",
      "current shape = (1201,)\n",
      "filling on, default _FillValue of 9.969209968386869e+36 used\n",
      "), ('original_bathy', <class 'netCDF4._netCDF4.Variable'>\n",
      "float32 original_bathy(grid_lat, grid_lon)\n",
      "    long_name: Grid original bathymetry\n",
      "    standard_name: original depth\n",
      "    units: meters\n",
      "    missing_value: -9999.0\n",
      "    _FillValue: -9999.0\n",
      "unlimited dimensions: \n",
      "current shape = (1201, 391)\n",
      "filling on), ('deformed_bathy', <class 'netCDF4._netCDF4.Variable'>\n",
      "float32 deformed_bathy(grid_lat, grid_lon)\n",
      "    long_name: Grid deformed bathymetry\n",
      "    standard_name: deformed depth\n",
      "    units: meters\n",
      "    missing_value: -9999.0\n",
      "    _FillValue: -9999.0\n",
      "unlimited dimensions: \n",
      "current shape = (1201, 391)\n",
      "filling on), ('time', <class 'netCDF4._netCDF4.Variable'>\n",
      "float32 time(time)\n",
      "    long_name: Time\n",
      "    units: seconds since 1970-01-01\n",
      "unlimited dimensions: time\n",
      "current shape = (49,)\n",
      "filling on, default _FillValue of 9.969209968386869e+36 used\n",
      "), ('max_height', <class 'netCDF4._netCDF4.Variable'>\n",
      "float32 max_height(lat, lon)\n",
      "    long_name: Maximum wave amplitude\n",
      "    units: meters\n",
      "    missing_value: -9999.0\n",
      "    _FillValue: -9999.0\n",
      "unlimited dimensions: \n",
      "current shape = (1201, 391)\n",
      "filling on)])\n"
     ]
    },
    {
     "ename": "KeyError",
     "evalue": "'eta'",
     "output_type": "error",
     "traceback": [
      "\u001b[0;31m---------------------------------------------------------------------------\u001b[0m",
      "\u001b[0;31mKeyError\u001b[0m                                  Traceback (most recent call last)",
      "\u001b[0;32m<ipython-input-5-097de0e08b2d>\u001b[0m in \u001b[0;36m<module>\u001b[0;34m\u001b[0m\n\u001b[1;32m      8\u001b[0m     \u001b[0mlon\u001b[0m\u001b[0;34m=\u001b[0m\u001b[0mf\u001b[0m\u001b[0;34m.\u001b[0m\u001b[0mvariables\u001b[0m\u001b[0;34m[\u001b[0m\u001b[0;34m'lon'\u001b[0m\u001b[0;34m]\u001b[0m\u001b[0;34m[\u001b[0m\u001b[0;34m:\u001b[0m\u001b[0;34m]\u001b[0m\u001b[0;34m-\u001b[0m\u001b[0;36m360\u001b[0m \u001b[0;31m# corregir longitud\u001b[0m\u001b[0;34m\u001b[0m\u001b[0m\n\u001b[1;32m      9\u001b[0m     \u001b[0mlat\u001b[0m\u001b[0;34m=\u001b[0m\u001b[0mf\u001b[0m\u001b[0;34m.\u001b[0m\u001b[0mvariables\u001b[0m\u001b[0;34m[\u001b[0m\u001b[0;34m'lat'\u001b[0m\u001b[0;34m]\u001b[0m\u001b[0;34m[\u001b[0m\u001b[0;34m:\u001b[0m\u001b[0;34m]\u001b[0m\u001b[0;34m\u001b[0m\u001b[0m\n\u001b[0;32m---> 10\u001b[0;31m     \u001b[0meta\u001b[0m \u001b[0;34m=\u001b[0m \u001b[0mf\u001b[0m\u001b[0;34m.\u001b[0m\u001b[0mvariables\u001b[0m\u001b[0;34m[\u001b[0m\u001b[0;34m'eta'\u001b[0m\u001b[0;34m]\u001b[0m\u001b[0;34m[\u001b[0m\u001b[0;36m0\u001b[0m\u001b[0;34m]\u001b[0m\u001b[0;34m\u001b[0m\u001b[0m\n\u001b[0m\u001b[1;32m     11\u001b[0m     \u001b[0mnx\u001b[0m\u001b[0;34m=\u001b[0m\u001b[0meta\u001b[0m\u001b[0;34m.\u001b[0m\u001b[0mshape\u001b[0m\u001b[0;34m[\u001b[0m\u001b[0;36m1\u001b[0m\u001b[0;34m]\u001b[0m\u001b[0;34m\u001b[0m\u001b[0m\n\u001b[1;32m     12\u001b[0m     \u001b[0mny\u001b[0m\u001b[0;34m=\u001b[0m\u001b[0meta\u001b[0m\u001b[0;34m.\u001b[0m\u001b[0mshape\u001b[0m\u001b[0;34m[\u001b[0m\u001b[0;36m0\u001b[0m\u001b[0;34m]\u001b[0m\u001b[0;34m\u001b[0m\u001b[0m\n",
      "\u001b[0;31mKeyError\u001b[0m: 'eta'"
     ]
    }
   ],
   "source": [
    "for file in files:\n",
    "    print(file)\n",
    "    rutafile = folder  + file\n",
    "    \n",
    "    f=Dataset(rutafile,'r') # abrir file\n",
    "    print(f.variables)\n",
    "    # variables a utilizar\n",
    "    lon=f.variables['lon'][:]-360 # corregir longitud\n",
    "    lat=f.variables['lat'][:]\n",
    "    eta = f.variables['eta'][0]\n",
    "    nx=eta.shape[1]\n",
    "    ny=eta.shape[0]\n",
    "    bat=f.variables['deformed_bathy'][:]\n",
    "    time = -1\n",
    "    for e in range(len(f.variables['eta'])):\n",
    "        time+=1\n",
    "        fig, ax = plt.subplots(figsize=(10,8),dpi=100)\n",
    "        eta = f.variables['eta'][e]-f.variables['eta'][0] \n",
    "        filtro = eta + f.variables['eta'][0] # lugar que no hay agua\n",
    "        eta[np.where(eta==0.0)] = np.NaN # altura de agua, falta restarle la topografi\n",
    "        bat[np.where(bat>0.0)] = np.NaN # topografia\n",
    "\n",
    "        minz=-5\n",
    "        maxz=20\n",
    "        curvas=100\n",
    "        delta = (maxz-minz)/curvas\n",
    "        contour=np.linspace(minz,maxz,curvas)\n",
    "\n",
    "        cs = ax.contourf(lon,lat,eta,curvas,alpha=.9,cmap=cm.get_cmap('jet'),vmin=-15,vmax=15)\n",
    "        plt.gca().set_aspect('equal', adjustable='box')\n",
    "        plt.title('Mapa inundación ' + file[-7:-5] +' '+ file[-5]+'.'+file[-4]+' Mw, time: '+ str(time*10)+' min.')\n",
    "        plt.xlabel('LONGITUDE')\n",
    "        plt.ylabel('LATITUDE')\n",
    "        divider = make_axes_locatable(plt.gca())\n",
    "        cax = divider.append_axes(\"right\", size=\"5%\", pad=0.1)\n",
    "        cb=fig.colorbar(cs,format='%.2f',cax=cax)\n",
    "        cb.set_label('METERS')\n",
    "\n",
    "        if not os.path.exists(rutafile.split('.nc')[0]): # crea folder si no existe\n",
    "            os.makedirs(rutafile.split('.nc')[0])\n",
    "\n",
    "        fig.savefig(rutafile.split('.nc')[0]+'/'+file.split('.nc')[0]+'_time'+str(e+10)+'.png',\n",
    "                       dpi=300,bbox_inches = 'tight',pad_inches = 0)\n",
    "\n",
    "        #plt.close() no mostrar imagenes si son muchos archivos \n",
    "plt.show()"
   ]
  },
  {
   "cell_type": "code",
   "execution_count": 7,
   "metadata": {},
   "outputs": [
    {
     "name": "stdout",
     "output_type": "stream",
     "text": [
      "level01.nc\n"
     ]
    },
    {
     "ename": "AttributeError",
     "evalue": "NetCDF: Attribute not found",
     "output_type": "error",
     "traceback": [
      "\u001b[0;31m---------------------------------------------------------------------------\u001b[0m",
      "\u001b[0;31mAttributeError\u001b[0m                            Traceback (most recent call last)",
      "\u001b[0;32m<ipython-input-7-6a4f745a628d>\u001b[0m in \u001b[0;36m<module>\u001b[0;34m\u001b[0m\n\u001b[1;32m      4\u001b[0m \u001b[0;34m\u001b[0m\u001b[0m\n\u001b[1;32m      5\u001b[0m     \u001b[0mf\u001b[0m\u001b[0;34m=\u001b[0m\u001b[0mDataset\u001b[0m\u001b[0;34m(\u001b[0m\u001b[0mrutafile\u001b[0m\u001b[0;34m,\u001b[0m\u001b[0;34m'r'\u001b[0m\u001b[0;34m)\u001b[0m \u001b[0;31m# abrir file\u001b[0m\u001b[0;34m\u001b[0m\u001b[0m\n\u001b[0;32m----> 6\u001b[0;31m     \u001b[0mprint\u001b[0m\u001b[0;34m(\u001b[0m\u001b[0mf\u001b[0m\u001b[0;34m.\u001b[0m\u001b[0mkeys\u001b[0m\u001b[0;34m(\u001b[0m\u001b[0;34m)\u001b[0m\u001b[0;34m)\u001b[0m\u001b[0;34m\u001b[0m\u001b[0m\n\u001b[0m",
      "\u001b[0;32mnetCDF4/_netCDF4.pyx\u001b[0m in \u001b[0;36mnetCDF4._netCDF4.Dataset.__getattr__\u001b[0;34m()\u001b[0m\n",
      "\u001b[0;32mnetCDF4/_netCDF4.pyx\u001b[0m in \u001b[0;36mnetCDF4._netCDF4.Dataset.getncattr\u001b[0;34m()\u001b[0m\n",
      "\u001b[0;32mnetCDF4/_netCDF4.pyx\u001b[0m in \u001b[0;36mnetCDF4._netCDF4._get_att\u001b[0;34m()\u001b[0m\n",
      "\u001b[0;32mnetCDF4/_netCDF4.pyx\u001b[0m in \u001b[0;36mnetCDF4._netCDF4._ensure_nc_success\u001b[0;34m()\u001b[0m\n",
      "\u001b[0;31mAttributeError\u001b[0m: NetCDF: Attribute not found"
     ]
    }
   ],
   "source": [
    "for file in files:\n",
    "    print(file)\n",
    "    rutafile = folder  + file\n",
    "    \n",
    "    f=Dataset(rutafile,'r') # abrir file\n",
    "    print(f.keys())"
   ]
  },
  {
   "cell_type": "code",
   "execution_count": 8,
   "metadata": {},
   "outputs": [
    {
     "data": {
      "text/plain": [
       "67.5"
      ]
     },
     "execution_count": 8,
     "metadata": {},
     "output_type": "execute_result"
    }
   ],
   "source": [
    "15*4.5"
   ]
  },
  {
   "cell_type": "code",
   "execution_count": null,
   "metadata": {},
   "outputs": [],
   "source": []
  }
 ],
 "metadata": {
  "kernelspec": {
   "display_name": "Python 3",
   "language": "python",
   "name": "python3"
  },
  "language_info": {
   "codemirror_mode": {
    "name": "ipython",
    "version": 3
   },
   "file_extension": ".py",
   "mimetype": "text/x-python",
   "name": "python",
   "nbconvert_exporter": "python",
   "pygments_lexer": "ipython3",
   "version": "3.7.0"
  }
 },
 "nbformat": 4,
 "nbformat_minor": 4
}
