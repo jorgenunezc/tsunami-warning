{
 "cells": [
  {
   "cell_type": "code",
   "execution_count": 4,
   "metadata": {},
   "outputs": [],
   "source": [
    "from netCDF4 import Dataset\n",
    "import numpy as np\n",
    "import os\n",
    "import shutil\n",
    "\n"
   ]
  },
  {
   "cell_type": "markdown",
   "metadata": {},
   "source": [
    "rocorre carpetas y agrupa ts conservando su enumeracion de escenario."
   ]
  },
  {
   "cell_type": "code",
   "execution_count": 5,
   "metadata": {},
   "outputs": [],
   "source": [
    "Folder = '/home/jorge/tsunami-warning/dataset/2800-L0'\n",
    "Folder_save='/home/jorge/tsunami-warning/dataset/ts_jorge_2800_L0'\n",
    "folders = os.listdir(Folder)# lista con carpetas en sce400\n",
    "folders.sort()\n",
    "#print(folders)\n",
    "for fol in folders: #recorre carpetas magnitudes\n",
    "    escenario = os.listdir(Folder+'/'+fol)\n",
    "    escenario.sort()\n",
    "    \n",
    "    for e in escenario :#recorre distintos escenarios dentro de cada magnitud\n",
    "        #print(e)\n",
    "        files = os.listdir(Folder+'/'+fol+'/'+e)\n",
    "        #print(files)\n",
    "        level3 = [] # guarda archivos solo level3 de cada escenarios\n",
    "        for f in files:\n",
    "            if f.endswith(\"ts.nc\") :\n",
    "                level3.append(f)\n",
    "       \n",
    "        for l in level3: # recorre los archivos level3 de cada escenario\n",
    "            file = Folder+'/'+fol+'/'+e+'/'+l\n",
    "            if not os.path.exists(Folder_save): # crea folder si no existe\n",
    "                os.makedirs(Folder_save)\n",
    "            \n",
    "            shutil.copy(file,Folder_save +'/'+'level01_ts'+e+'.nc')"
   ]
  },
  {
   "cell_type": "code",
   "execution_count": null,
   "metadata": {},
   "outputs": [],
   "source": []
  }
 ],
 "metadata": {
  "kernelspec": {
   "display_name": "Python 3",
   "language": "python",
   "name": "python3"
  },
  "language_info": {
   "codemirror_mode": {
    "name": "ipython",
    "version": 3
   },
   "file_extension": ".py",
   "mimetype": "text/x-python",
   "name": "python",
   "nbconvert_exporter": "python",
   "pygments_lexer": "ipython3",
   "version": "3.7.0"
  }
 },
 "nbformat": 4,
 "nbformat_minor": 4
}
