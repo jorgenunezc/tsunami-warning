{
 "cells": [
  {
   "cell_type": "code",
   "execution_count": 1,
   "metadata": {},
   "outputs": [],
   "source": [
    "from netCDF4 import Dataset\n",
    "import numpy as np\n",
    "import os\n",
    "import shutil\n",
    "import numpy as np\n",
    "import matplotlib.pyplot as plt\n"
   ]
  },
  {
   "cell_type": "markdown",
   "metadata": {},
   "source": [
    "Reccorre carpetas y guarda ts manteniendo configuracion de carpetas.\n"
   ]
  },
  {
   "cell_type": "code",
   "execution_count": 2,
   "metadata": {},
   "outputs": [],
   "source": [
    "Folder = '/home/jorge/tsunami-warning/dataset/jorge2'\n",
    "\n",
    "folders = os.listdir(Folder)# lista con carpetas en sce400\n",
    "folders.sort()\n",
    "#print(folders)\n",
    "for fol in folders: #recorre carpetas magnitudes\n",
    "    escenario = os.listdir(Folder+'/'+fol)\n",
    "    #print(escenario)\n",
    "    escenario.sort()\n",
    "    \n",
    "    for e in escenario :#recorre distintos escenarios dentro de cada magnitud\n",
    "        if e.endswith(\".sh\"):\n",
    "            continue\n",
    "        files = os.listdir(Folder+'/'+fol+'/'+e)\n",
    "        #print(files)\n",
    "        level3 = [] # guarda archivos solo level3 de cada escenarios\n",
    "        \n",
    "        for file in files:\n",
    "            if file.endswith(\"ts.nc\") and file.startswith(\"level01\"):\n",
    "                level3.append(file)\n",
    "        #print(level3)        \n",
    "        for l in level3: # recorre los archivos level3 de cada escenario\n",
    "            \n",
    "            file = Folder+'/'+fol+'/'+e+'/'+l\n",
    "            #print(file)\n",
    "            Folder_npy = Folder+'-level1_ts'+'/'+ fol+'/'+e+'/'\n",
    "            \n",
    "            if not os.path.exists(Folder_npy): # crea folder si no existe\n",
    "                os.makedirs(Folder_npy)\n",
    "            \n",
    "            # Copia el archivo desde la ubicación actual a la\n",
    "            # carpeta \"Documentos\".\n",
    "            shutil.copy(file,Folder_npy+l )\n",
    "            "
   ]
  },
  {
   "cell_type": "code",
   "execution_count": null,
   "metadata": {},
   "outputs": [],
   "source": []
  }
 ],
 "metadata": {
  "kernelspec": {
   "display_name": "Python 3",
   "language": "python",
   "name": "python3"
  },
  "language_info": {
   "codemirror_mode": {
    "name": "ipython",
    "version": 3
   },
   "file_extension": ".py",
   "mimetype": "text/x-python",
   "name": "python",
   "nbconvert_exporter": "python",
   "pygments_lexer": "ipython3",
   "version": "3.7.0"
  }
 },
 "nbformat": 4,
 "nbformat_minor": 4
}
